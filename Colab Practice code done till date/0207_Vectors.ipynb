{
  "nbformat": 4,
  "nbformat_minor": 0,
  "metadata": {
    "colab": {
      "name": "0207_Vectors.ipynb",
      "version": "0.3.2",
      "provenance": [],
      "collapsed_sections": [
        "I8-8-5Th0RlT",
        "W0NsaUqq0gSU"
      ],
      "include_colab_link": true
    },
    "kernelspec": {
      "name": "python3",
      "display_name": "Python 3"
    }
  },
  "cells": [
    {
      "cell_type": "markdown",
      "metadata": {
        "id": "view-in-github",
        "colab_type": "text"
      },
      "source": [
        "<a href=\"https://colab.research.google.com/github/nimblenitin/Deep-Learning-course-on-One-Fourth-Labs/blob/master/0207_Vectors.ipynb\" target=\"_parent\"><img src=\"https://colab.research.google.com/assets/colab-badge.svg\" alt=\"Open In Colab\"/></a>"
      ]
    },
    {
      "metadata": {
        "id": "vmAaM44_s4wH",
        "colab_type": "code",
        "colab": {}
      },
      "cell_type": "code",
      "source": [
        "import numpy as np\n",
        "import matplotlib.pyplot as plt"
      ],
      "execution_count": 0,
      "outputs": []
    },
    {
      "metadata": {
        "id": "I8-8-5Th0RlT",
        "colab_type": "text"
      },
      "cell_type": "markdown",
      "source": [
        "# Vector Plotting"
      ]
    },
    {
      "metadata": {
        "id": "BZppC87KtHlP",
        "colab_type": "code",
        "outputId": "451e1f51-a7b8-48a1-f387-6ad945deb306",
        "colab": {
          "base_uri": "https://localhost:8080/",
          "height": 269
        }
      },
      "cell_type": "code",
      "source": [
        "plt.quiver(0, 0, 3, 4)\n",
        "plt.show()"
      ],
      "execution_count": 0,
      "outputs": [
        {
          "output_type": "display_data",
          "data": {
            "image/png": "[encoded data removed]",
            "text/plain": [
              "<Figure size 432x288 with 1 Axes>"
            ]
          },
          "metadata": {
            "tags": []
          }
        }
      ]
    },
    {
      "metadata": {
        "id": "2_VlTJC-tMZW",
        "colab_type": "code",
        "outputId": "9008aab9-08b2-41fd-de77-96b0c9c523f0",
        "colab": {
          "base_uri": "https://localhost:8080/",
          "height": 269
        }
      },
      "cell_type": "code",
      "source": [
        "plt.quiver(0,0,3,4, scale_units = 'xy', angles = 'xy', scale = 1)\n",
        "plt.show()"
      ],
      "execution_count": 0,
      "outputs": [
        {
          "output_type": "display_data",
          "data": {
            "image/png": "[encoded data removed]",
            "text/plain": [
              "<Figure size 432x288 with 1 Axes>"
            ]
          },
          "metadata": {
            "tags": []
          }
        }
      ]
    },
    {
      "metadata": {
        "id": "CoPYJ1rgti6o",
        "colab_type": "code",
        "outputId": "db77b521-2070-413c-c942-382d0e668767",
        "colab": {
          "base_uri": "https://localhost:8080/",
          "height": 269
        }
      },
      "cell_type": "code",
      "source": [
        "plt.quiver(0,0,3,4, scale_units = 'xy', angles = 'xy', scale = 1, color = 'r')\n",
        "plt.quiver(0,0,-3,4, scale_units = 'xy', angles = 'xy', scale = 1, color = 'g')\n",
        "plt.xlim(-10, 10)\n",
        "plt.ylim(-10, 10)\n",
        "plt.show()"
      ],
      "execution_count": 0,
      "outputs": [
        {
          "output_type": "display_data",
          "data": {
            "image/png": "[encoded data removed]",
            "text/plain": [
              "<Figure size 432x288 with 1 Axes>"
            ]
          },
          "metadata": {
            "tags": []
          }
        }
      ]
    },
    {
      "metadata": {
        "id": "iAH1NJDKt2wB",
        "colab_type": "code",
        "colab": {}
      },
      "cell_type": "code",
      "source": [
        "def plot_vectors(vecs):\n",
        "  colors = ['r', 'b', 'g', 'y']\n",
        "  i = 0\n",
        "  for vec in vecs:\n",
        "    plt.quiver(vec[0], vec[1], vec[2], vec[3], scale_units = 'xy', angles = 'xy', scale = 1, color = colors[i%len(colors)])\n",
        "    i += 1\n",
        "  plt.xlim(-10, 10)\n",
        "  plt.ylim(-10, 10)\n",
        "  plt.show()"
      ],
      "execution_count": 0,
      "outputs": []
    },
    {
      "metadata": {
        "id": "80CKO17IvH9T",
        "colab_type": "code",
        "outputId": "1f7c0720-63d5-4461-b449-c5c02c73bb8a",
        "colab": {
          "base_uri": "https://localhost:8080/",
          "height": 269
        }
      },
      "cell_type": "code",
      "source": [
        "plot_vectors([(0, 0, 3, 4), (0, 0, -3, 4), (0, 0, -3, -2), (0, 0, 4, -1)])"
      ],
      "execution_count": 0,
      "outputs": [
        {
          "output_type": "display_data",
          "data": {
            "image/png": "[encoded data removed]",
            "text/plain": [
              "<Figure size 432x288 with 1 Axes>"
            ]
          },
          "metadata": {
            "tags": []
          }
        }
      ]
    },
    {
      "metadata": {
        "id": "IyoQLgIzvX5I",
        "colab_type": "code",
        "colab": {}
      },
      "cell_type": "code",
      "source": [
        "vecs = [np.asarray([0, 0, 3, 4]), np.asarray([0, 0, -3, 4]), np.asarray([0, 0, -3, -2]), np.asarray([0, 0, 4, -1])]"
      ],
      "execution_count": 0,
      "outputs": []
    },
    {
      "metadata": {
        "id": "W0NsaUqq0gSU",
        "colab_type": "text"
      },
      "cell_type": "markdown",
      "source": [
        "# Vector Addition and Sub"
      ]
    },
    {
      "metadata": {
        "id": "_5mOx1SKxCWb",
        "colab_type": "code",
        "outputId": "b938ca2c-0902-46d1-cc17-8557191e5bba",
        "colab": {
          "base_uri": "https://localhost:8080/",
          "height": 269
        }
      },
      "cell_type": "code",
      "source": [
        "plot_vectors([vecs[0], vecs[1]])"
      ],
      "execution_count": 0,
      "outputs": [
        {
          "output_type": "display_data",
          "data": {
            "image/png": "[encoded data removed]",
            "text/plain": [
              "<Figure size 432x288 with 1 Axes>"
            ]
          },
          "metadata": {
            "tags": []
          }
        }
      ]
    },
    {
      "metadata": {
        "id": "BJ5-0KgExSUC",
        "colab_type": "code",
        "outputId": "3d273f56-0d70-4475-cc31-63ca98a7c8e0",
        "colab": {
          "base_uri": "https://localhost:8080/",
          "height": 34
        }
      },
      "cell_type": "code",
      "source": [
        "vecs[0] + vecs[3]"
      ],
      "execution_count": 0,
      "outputs": [
        {
          "output_type": "execute_result",
          "data": {
            "text/plain": [
              "array([0, 0, 7, 3])"
            ]
          },
          "metadata": {
            "tags": []
          },
          "execution_count": 30
        }
      ]
    },
    {
      "metadata": {
        "id": "5-DGLyAKxlJR",
        "colab_type": "code",
        "outputId": "4d6c4fd1-b73f-4036-bac9-05e4456d07e1",
        "colab": {
          "base_uri": "https://localhost:8080/",
          "height": 269
        }
      },
      "cell_type": "code",
      "source": [
        "plot_vectors([vecs[0], vecs[3], vecs[0] + vecs[3]])"
      ],
      "execution_count": 0,
      "outputs": [
        {
          "output_type": "display_data",
          "data": {
            "image/png": "[encoded data removed]",
            "text/plain": [
              "<Figure size 432x288 with 1 Axes>"
            ]
          },
          "metadata": {
            "tags": []
          }
        }
      ]
    },
    {
      "metadata": {
        "id": "YPtEecmrylnE",
        "colab_type": "code",
        "outputId": "0a998dc7-0753-4bf4-f5b8-32a3e9cc3ca4",
        "colab": {
          "base_uri": "https://localhost:8080/",
          "height": 269
        }
      },
      "cell_type": "code",
      "source": [
        "plot_vectors([vecs[0], vecs[0], vecs[0] + vecs[0]])"
      ],
      "execution_count": 0,
      "outputs": [
        {
          "output_type": "display_data",
          "data": {
            "image/png": "[encoded data removed]",
            "text/plain": [
              "<Figure size 432x288 with 1 Axes>"
            ]
          },
          "metadata": {
            "tags": []
          }
        }
      ]
    },
    {
      "metadata": {
        "id": "mMK71u9ry76p",
        "colab_type": "code",
        "outputId": "cddfb49a-6d07-447f-bdce-1941be6f60f7",
        "colab": {
          "base_uri": "https://localhost:8080/",
          "height": 269
        }
      },
      "cell_type": "code",
      "source": [
        "  plot_vectors([vecs[0], vecs[3], vecs[0] - vecs[3]])"
      ],
      "execution_count": 0,
      "outputs": [
        {
          "output_type": "display_data",
          "data": {
            "image/png": "[encoded data removed]",
            "text/plain": [
              "<Figure size 432x288 with 1 Axes>"
            ]
          },
          "metadata": {
            "tags": []
          }
        }
      ]
    },
    {
      "metadata": {
        "id": "cHEnI9upzX4h",
        "colab_type": "code",
        "outputId": "b6c10217-918c-4a1d-e1c0-4b1fe40a45bd",
        "colab": {
          "base_uri": "https://localhost:8080/",
          "height": 269
        }
      },
      "cell_type": "code",
      "source": [
        "plot_vectors([-vecs[0], vecs[3], -vecs[0] +( vecs[3])])"
      ],
      "execution_count": 0,
      "outputs": [
        {
          "output_type": "display_data",
          "data": {
            "image/png": "[encoded data removed]",
            "text/plain": [
              "<Figure size 432x288 with 1 Axes>"
            ]
          },
          "metadata": {
            "tags": []
          }
        }
      ]
    },
    {
      "metadata": {
        "id": "n_16Nu73zoSM",
        "colab_type": "code",
        "colab": {}
      },
      "cell_type": "code",
      "source": [
        ""
      ],
      "execution_count": 0,
      "outputs": []
    },
    {
      "metadata": {
        "id": "I9rgmDw80778",
        "colab_type": "text"
      },
      "cell_type": "markdown",
      "source": [
        "# Vector Dot Product"
      ]
    },
    {
      "metadata": {
        "id": "0jc5W4FD1CYM",
        "colab_type": "code",
        "colab": {}
      },
      "cell_type": "code",
      "source": [
        "vecs = [np.asarray([0, 0, 3, 4]), np.asarray([0, 0, -3, 4]), np.asarray([0, 0, -3, -2]), np.asarray([0, 0, 4, -1])]"
      ],
      "execution_count": 0,
      "outputs": []
    },
    {
      "metadata": {
        "id": "JY7Zf2AQ1g91",
        "colab_type": "code",
        "outputId": "c026f327-3e6e-4592-d5b0-afca29f42995",
        "colab": {
          "base_uri": "https://localhost:8080/",
          "height": 269
        }
      },
      "cell_type": "code",
      "source": [
        "plot_vectors(vecs)"
      ],
      "execution_count": 0,
      "outputs": [
        {
          "output_type": "display_data",
          "data": {
            "image/png": "[encoded data removed]",
            "text/plain": [
              "<Figure size 432x288 with 1 Axes>"
            ]
          },
          "metadata": {
            "tags": []
          }
        }
      ]
    },
    {
      "metadata": {
        "id": "TCGCof3l1w0s",
        "colab_type": "code",
        "colab": {}
      },
      "cell_type": "code",
      "source": [
        "a = np.asarray([3, 4])\n",
        "b = np.asarray([-3, -2])"
      ],
      "execution_count": 0,
      "outputs": []
    },
    {
      "metadata": {
        "id": "kixPaToO2JrZ",
        "colab_type": "text"
      },
      "cell_type": "markdown",
      "source": [
        "$\\vec{a}\\cdot\\vec{b} = |\\vec{a}|\\vec{b}|\\cos(\\theta) = a_x b_x + a_y b_y$"
      ]
    },
    {
      "metadata": {
        "id": "gYG0sSmk2zbr",
        "colab_type": "code",
        "colab": {}
      },
      "cell_type": "code",
      "source": [
        "a_dot_b = np.dot(a,b)"
      ],
      "execution_count": 0,
      "outputs": []
    },
    {
      "metadata": {
        "id": "HyzE0BJ926PZ",
        "colab_type": "code",
        "outputId": "5ca0ba1c-2bb2-4603-b1ff-ff831e937faf",
        "colab": {
          "base_uri": "https://localhost:8080/",
          "height": 34
        }
      },
      "cell_type": "code",
      "source": [
        "print(a_dot_b)"
      ],
      "execution_count": 0,
      "outputs": [
        {
          "output_type": "stream",
          "text": [
            "-17\n"
          ],
          "name": "stdout"
        }
      ]
    },
    {
      "metadata": {
        "id": "8iyZ4Lgl288q",
        "colab_type": "code",
        "colab": {}
      },
      "cell_type": "code",
      "source": [
        ""
      ],
      "execution_count": 0,
      "outputs": []
    },
    {
      "metadata": {
        "id": "24y_YUhD3VVJ",
        "colab_type": "text"
      },
      "cell_type": "markdown",
      "source": [
        "$a_b = |\\vec{a}|\\cos(\\theta) = |\\vec{a}|\\frac{\\vec{a}\\cdot\\vec{b}}{|\\vec{a}||\\vec{b}|} = \\frac{\\vec{a}\\cdot\\vec{b}}{|\\vec{b}|} $"
      ]
    },
    {
      "metadata": {
        "id": "d7ogdjgP39II",
        "colab_type": "code",
        "colab": {}
      },
      "cell_type": "code",
      "source": [
        "a_b = np.dot(a,b)/np.linalg.norm(b)"
      ],
      "execution_count": 0,
      "outputs": []
    },
    {
      "metadata": {
        "id": "csaPN-Zk6Ipr",
        "colab_type": "code",
        "outputId": "5029707a-0c2e-4b27-f328-661ef441b928",
        "colab": {
          "base_uri": "https://localhost:8080/",
          "height": 34
        }
      },
      "cell_type": "code",
      "source": [
        "print(a_b)"
      ],
      "execution_count": 0,
      "outputs": [
        {
          "output_type": "stream",
          "text": [
            "1.9402850002906638\n"
          ],
          "name": "stdout"
        }
      ]
    },
    {
      "metadata": {
        "id": "CzMrvOc46NIQ",
        "colab_type": "code",
        "colab": {}
      },
      "cell_type": "code",
      "source": [
        ""
      ],
      "execution_count": 0,
      "outputs": []
    },
    {
      "metadata": {
        "id": "H5F2xmuj6V5O",
        "colab_type": "text"
      },
      "cell_type": "markdown",
      "source": [
        "$\\vec{a_b} = a_b \\hat{b} = a_b \\frac {\\vec{b}}{|\\vec{b}|} $"
      ]
    },
    {
      "metadata": {
        "id": "FQsmU9gB6_3w",
        "colab_type": "code",
        "outputId": "250dad69-86c6-407f-8743-0d8e5170f795",
        "colab": {
          "base_uri": "https://localhost:8080/",
          "height": 34
        }
      },
      "cell_type": "code",
      "source": [
        "vec_a_b = (a_b/np.linalg.norm(b)) * b\n",
        "print(vec_a_b)"
      ],
      "execution_count": 0,
      "outputs": [
        {
          "output_type": "stream",
          "text": [
            "[ 1.88235294 -0.47058824]\n"
          ],
          "name": "stdout"
        }
      ]
    },
    {
      "metadata": {
        "id": "gIDv_f3T7Wtw",
        "colab_type": "code",
        "outputId": "be787612-ac4a-4b95-9bdd-f58025dbbf25",
        "colab": {
          "base_uri": "https://localhost:8080/",
          "height": 269
        }
      },
      "cell_type": "code",
      "source": [
        "plot_vectors([np.asarray([0, 0, 3, 4]), np.asarray([0, 0, 4, -1]), np.asarray([0, 0, 1.88235294, -0.47058824])])"
      ],
      "execution_count": 0,
      "outputs": [
        {
          "output_type": "display_data",
          "data": {
            "image/png": "[encoded data removed]",
            "text/plain": [
              "<Figure size 432x288 with 1 Axes>"
            ]
          },
          "metadata": {
            "tags": []
          }
        }
      ]
    },
    {
      "metadata": {
        "id": "GZiEla-E9aJJ",
        "colab_type": "text"
      },
      "cell_type": "markdown",
      "source": [
        "$\\vec{b_a} = b_a \\hat{a} = b_a \\frac {\\vec{a}}{|\\vec{a}|} $"
      ]
    },
    {
      "metadata": {
        "id": "vhFO6-hI8kjW",
        "colab_type": "code",
        "outputId": "3f25f64b-b5be-492f-bbb3-e133dc2d95ec",
        "colab": {
          "base_uri": "https://localhost:8080/",
          "height": 34
        }
      },
      "cell_type": "code",
      "source": [
        "b_a = np.dot(b,a)/np.linalg.norm(a)\n",
        "vec_b_a = (b_a/np.linalg.norm(a)) * a\n",
        "print(vec_b_a)"
      ],
      "execution_count": 0,
      "outputs": [
        {
          "output_type": "stream",
          "text": [
            "[0.96 1.28]\n"
          ],
          "name": "stdout"
        }
      ]
    },
    {
      "metadata": {
        "id": "dKQRuH5J9MWT",
        "colab_type": "code",
        "outputId": "822f70a8-e3c7-42a6-d7e6-ea42dad532c2",
        "colab": {
          "base_uri": "https://localhost:8080/",
          "height": 269
        }
      },
      "cell_type": "code",
      "source": [
        "plot_vectors([np.asarray([0, 0, 3, 4]), np.asarray([0, 0, 0.96, 1.28]), np.asarray([0, 0, 4, -1])])"
      ],
      "execution_count": 0,
      "outputs": [
        {
          "output_type": "display_data",
          "data": {
            "image/png": "[encoded data removed]",
            "text/plain": [
              "<Figure size 432x288 with 1 Axes>"
            ]
          },
          "metadata": {
            "tags": []
          }
        }
      ]
    },
    {
      "metadata": {
        "id": "_rSPQITe-xEH",
        "colab_type": "code",
        "colab": {}
      },
      "cell_type": "code",
      "source": [
        ""
      ],
      "execution_count": 0,
      "outputs": []
    }
  ]
}
