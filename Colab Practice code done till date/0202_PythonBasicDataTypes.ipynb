{
  "nbformat": 4,
  "nbformat_minor": 0,
  "metadata": {
    "colab": {
      "name": "0202_PythonBasicDataTypes.ipynb",
      "version": "0.3.2",
      "provenance": [],
      "collapsed_sections": [],
      "toc_visible": true,
      "include_colab_link": true
    },
    "kernelspec": {
      "name": "python3",
      "display_name": "Python 3"
    }
  },
  "cells": [
    {
      "cell_type": "markdown",
      "metadata": {
        "id": "view-in-github",
        "colab_type": "text"
      },
      "source": [
        "<a href=\"https://colab.research.google.com/github/nimblenitin/Deep-Learning-course-on-One-Fourth-Labs/blob/master/0202_PythonBasicDataTypes.ipynb\" target=\"_parent\"><img src=\"https://colab.research.google.com/assets/colab-badge.svg\" alt=\"Open In Colab\"/></a>"
      ]
    },
    {
      "metadata": {
        "id": "op6VYQaISGX9",
        "colab_type": "text"
      },
      "cell_type": "markdown",
      "source": [
        "# Simple data types and operators"
      ]
    },
    {
      "metadata": {
        "id": "VfqUWXhrHNcX",
        "colab_type": "code",
        "colab": {}
      },
      "cell_type": "code",
      "source": [
        "name = 'iphone 5s'"
      ],
      "execution_count": 0,
      "outputs": []
    },
    {
      "metadata": {
        "id": "JJsRauIxHldj",
        "colab_type": "code",
        "outputId": "47e9d248-5412-4b8a-cf80-237db9aea506",
        "colab": {
          "base_uri": "https://localhost:8080/",
          "height": 34
        }
      },
      "cell_type": "code",
      "source": [
        "type(name)"
      ],
      "execution_count": 0,
      "outputs": [
        {
          "output_type": "execute_result",
          "data": {
            "text/plain": [
              "str"
            ]
          },
          "metadata": {
            "tags": []
          },
          "execution_count": 2
        }
      ]
    },
    {
      "metadata": {
        "id": "RLU3FF5MHtdN",
        "colab_type": "code",
        "outputId": "91f02b94-9c85-4ee1-fbea-ac0ea51bd7fa",
        "colab": {
          "base_uri": "https://localhost:8080/",
          "height": 34
        }
      },
      "cell_type": "code",
      "source": [
        "print(name)"
      ],
      "execution_count": 0,
      "outputs": [
        {
          "output_type": "stream",
          "text": [
            "iphone 5s\n"
          ],
          "name": "stdout"
        }
      ]
    },
    {
      "metadata": {
        "id": "YRr0BSuvHynr",
        "colab_type": "code",
        "outputId": "d09a9b9d-81ee-4118-f2f6-b03e6690739d",
        "colab": {
          "base_uri": "https://localhost:8080/",
          "height": 34
        }
      },
      "cell_type": "code",
      "source": [
        "screen_size = 4.3\n",
        "type(screen_size)"
      ],
      "execution_count": 0,
      "outputs": [
        {
          "output_type": "execute_result",
          "data": {
            "text/plain": [
              "float"
            ]
          },
          "metadata": {
            "tags": []
          },
          "execution_count": 4
        }
      ]
    },
    {
      "metadata": {
        "id": "af-jzaW7H-GH",
        "colab_type": "code",
        "colab": {}
      },
      "cell_type": "code",
      "source": [
        "num_of_speakers = 1"
      ],
      "execution_count": 0,
      "outputs": []
    },
    {
      "metadata": {
        "id": "XW6q0nvwIEYm",
        "colab_type": "code",
        "outputId": "9d49a05c-762e-45ba-b69b-96c7ba359529",
        "colab": {
          "base_uri": "https://localhost:8080/",
          "height": 34
        }
      },
      "cell_type": "code",
      "source": [
        "type(num_of_speakers)"
      ],
      "execution_count": 0,
      "outputs": [
        {
          "output_type": "execute_result",
          "data": {
            "text/plain": [
              "int"
            ]
          },
          "metadata": {
            "tags": []
          },
          "execution_count": 6
        }
      ]
    },
    {
      "metadata": {
        "id": "AS-GplcBIHvW",
        "colab_type": "code",
        "outputId": "9a17076a-889f-4ea3-b795-8030a87640d8",
        "colab": {
          "base_uri": "https://localhost:8080/",
          "height": 34
        }
      },
      "cell_type": "code",
      "source": [
        "print('Will I ever be able to afford ' + name )"
      ],
      "execution_count": 0,
      "outputs": [
        {
          "output_type": "stream",
          "text": [
            "Will I ever be able to afford iphone 5s\n"
          ],
          "name": "stdout"
        }
      ]
    },
    {
      "metadata": {
        "id": "iTxaWiPeIZFd",
        "colab_type": "code",
        "outputId": "c380c972-320c-4a5a-9788-9c1c946e1245",
        "colab": {
          "base_uri": "https://localhost:8080/",
          "height": 34
        }
      },
      "cell_type": "code",
      "source": [
        "a = 3\n",
        "b = 2\n",
        "print( a * b, a / b, a + b, a - b, a // b)"
      ],
      "execution_count": 0,
      "outputs": [
        {
          "output_type": "stream",
          "text": [
            "6 1.5 5 1 1\n"
          ],
          "name": "stdout"
        }
      ]
    },
    {
      "metadata": {
        "id": "vfzV4jJwJFro",
        "colab_type": "code",
        "outputId": "220e6d61-e3bd-45d7-9e09-b7c93eb5f4bf",
        "colab": {
          "base_uri": "https://localhost:8080/",
          "height": 34
        }
      },
      "cell_type": "code",
      "source": [
        "is_android = False\n",
        "type(is_android)"
      ],
      "execution_count": 0,
      "outputs": [
        {
          "output_type": "execute_result",
          "data": {
            "text/plain": [
              "bool"
            ]
          },
          "metadata": {
            "tags": []
          },
          "execution_count": 17
        }
      ]
    },
    {
      "metadata": {
        "id": "cyQ1WqKCKKWG",
        "colab_type": "code",
        "outputId": "56a6a3e0-9ffc-461a-e3bc-3fc0a2b39cbc",
        "colab": {
          "base_uri": "https://localhost:8080/",
          "height": 34
        }
      },
      "cell_type": "code",
      "source": [
        "print(is_android == True)"
      ],
      "execution_count": 0,
      "outputs": [
        {
          "output_type": "stream",
          "text": [
            "False\n"
          ],
          "name": "stdout"
        }
      ]
    },
    {
      "metadata": {
        "id": "S2sSlI0PKV8-",
        "colab_type": "code",
        "outputId": "2c8d9d6e-8082-4bc5-dbb5-eb0a5e389568",
        "colab": {
          "base_uri": "https://localhost:8080/",
          "height": 34
        }
      },
      "cell_type": "code",
      "source": [
        "print(is_android == False and num_of_speakers > 1)"
      ],
      "execution_count": 0,
      "outputs": [
        {
          "output_type": "stream",
          "text": [
            "False\n"
          ],
          "name": "stdout"
        }
      ]
    },
    {
      "metadata": {
        "id": "3urS49M2S2Oi",
        "colab_type": "text"
      },
      "cell_type": "markdown",
      "source": [
        "# Code blocks- If, For, While"
      ]
    },
    {
      "metadata": {
        "id": "CAlNzOkyKhK9",
        "colab_type": "code",
        "outputId": "36242eb1-0de4-4c4e-8766-bc1fc9cdfb41",
        "colab": {
          "base_uri": "https://localhost:8080/",
          "height": 34
        }
      },
      "cell_type": "code",
      "source": [
        "if is_android == True:\n",
        "  print(name + ' does not support Android')\n",
        "  print('continuing to print inside the if block')\n",
        "print('printing this outside the block ')"
      ],
      "execution_count": 0,
      "outputs": [
        {
          "output_type": "stream",
          "text": [
            "printing this outside the block \n"
          ],
          "name": "stdout"
        }
      ]
    },
    {
      "metadata": {
        "id": "Sx5oKcprLerU",
        "colab_type": "code",
        "outputId": "2b484d98-d9ca-4a44-c218-756be1e1199a",
        "colab": {
          "base_uri": "https://localhost:8080/",
          "height": 102
        }
      },
      "cell_type": "code",
      "source": [
        "for i in range(5):\n",
        "  print(i,i**2)"
      ],
      "execution_count": 0,
      "outputs": [
        {
          "output_type": "stream",
          "text": [
            "0 0\n",
            "1 1\n",
            "2 4\n",
            "3 9\n",
            "4 16\n"
          ],
          "name": "stdout"
        }
      ]
    },
    {
      "metadata": {
        "id": "GSBdjeNsL5Pb",
        "colab_type": "code",
        "colab": {}
      },
      "cell_type": "code",
      "source": [
        "range?"
      ],
      "execution_count": 0,
      "outputs": []
    },
    {
      "metadata": {
        "id": "225z_hCrL_Us",
        "colab_type": "code",
        "outputId": "c63d2db8-5c75-412d-dbe5-bc917f07dc72",
        "colab": {
          "base_uri": "https://localhost:8080/",
          "height": 102
        }
      },
      "cell_type": "code",
      "source": [
        "i = 0\n",
        "while i < 5:\n",
        "  print(i, i**2)\n",
        "  i += 1 # Equivalent to i = i + 1"
      ],
      "execution_count": 0,
      "outputs": [
        {
          "output_type": "stream",
          "text": [
            "0 0\n",
            "1 1\n",
            "2 4\n",
            "3 9\n",
            "4 16\n"
          ],
          "name": "stdout"
        }
      ]
    },
    {
      "metadata": {
        "id": "xdottMCdS_H9",
        "colab_type": "text"
      },
      "cell_type": "markdown",
      "source": [
        "# Functions"
      ]
    },
    {
      "metadata": {
        "id": "x3NzDTK_MYUf",
        "colab_type": "code",
        "colab": {}
      },
      "cell_type": "code",
      "source": [
        "def print_square(stop_val):\n",
        "  for i in range(stop_val):\n",
        "    print(i, i ** 2)"
      ],
      "execution_count": 0,
      "outputs": []
    },
    {
      "metadata": {
        "id": "-FikmDJNM8i0",
        "colab_type": "code",
        "outputId": "af85c861-d53c-4596-f200-d3b1a304d2e0",
        "colab": {
          "base_uri": "https://localhost:8080/",
          "height": 102
        }
      },
      "cell_type": "code",
      "source": [
        "print_square(5)"
      ],
      "execution_count": 0,
      "outputs": [
        {
          "output_type": "stream",
          "text": [
            "0 0\n",
            "1 1\n",
            "2 4\n",
            "3 9\n",
            "4 16\n"
          ],
          "name": "stdout"
        }
      ]
    },
    {
      "metadata": {
        "id": "D8Jr6bBZNDl_",
        "colab_type": "code",
        "outputId": "ce6f5c24-be90-44d1-d222-aa86edfe79ca",
        "colab": {
          "base_uri": "https://localhost:8080/",
          "height": 68
        }
      },
      "cell_type": "code",
      "source": [
        "print_square(3)"
      ],
      "execution_count": 0,
      "outputs": [
        {
          "output_type": "stream",
          "text": [
            "0 0\n",
            "1 1\n",
            "2 4\n"
          ],
          "name": "stdout"
        }
      ]
    },
    {
      "metadata": {
        "id": "KvM-0aLkNYh8",
        "colab_type": "code",
        "colab": {}
      },
      "cell_type": "code",
      "source": [
        "def sum_of_squares(stop_val):\n",
        "  sum_ = 0\n",
        "  for i in range(stop_val):\n",
        "    sum_ += i ** 2\n",
        "  return sum_"
      ],
      "execution_count": 0,
      "outputs": []
    },
    {
      "metadata": {
        "id": "BwNrCm2ENzVV",
        "colab_type": "code",
        "outputId": "27afca17-67af-4c3c-b8c9-9a9fcdd75741",
        "colab": {
          "base_uri": "https://localhost:8080/",
          "height": 34
        }
      },
      "cell_type": "code",
      "source": [
        "sum_of_squares(5)"
      ],
      "execution_count": 0,
      "outputs": [
        {
          "output_type": "execute_result",
          "data": {
            "text/plain": [
              "30"
            ]
          },
          "metadata": {
            "tags": []
          },
          "execution_count": 39
        }
      ]
    },
    {
      "metadata": {
        "id": "PMWH9etYN5OL",
        "colab_type": "code",
        "colab": {}
      },
      "cell_type": "code",
      "source": [
        "sum_5 = sum_of_squares(5)"
      ],
      "execution_count": 0,
      "outputs": []
    },
    {
      "metadata": {
        "id": "9tCfHN2fPiia",
        "colab_type": "code",
        "colab": {}
      },
      "cell_type": "code",
      "source": [
        "def print_square_with_start_val(stop_val, start_val = 0):\n",
        "  '''Prints the square of numbers starting with start_val(inclusive) and stopping with stop_val(Exclusive) value'''\n",
        "  for i in range(stop_val):\n",
        "    print(i, i ** 2)"
      ],
      "execution_count": 0,
      "outputs": []
    },
    {
      "metadata": {
        "id": "L7dKB3ThPuRU",
        "colab_type": "code",
        "outputId": "2c53e7d4-79fe-48a6-c6d1-a3e39e5aecfb",
        "colab": {
          "base_uri": "https://localhost:8080/",
          "height": 102
        }
      },
      "cell_type": "code",
      "source": [
        "print_square_with_start_val(5, 2)"
      ],
      "execution_count": 0,
      "outputs": [
        {
          "output_type": "stream",
          "text": [
            "0 0\n",
            "1 1\n",
            "2 4\n",
            "3 9\n",
            "4 16\n"
          ],
          "name": "stdout"
        }
      ]
    },
    {
      "metadata": {
        "id": "Vke-qlRGQMqu",
        "colab_type": "code",
        "colab": {}
      },
      "cell_type": "code",
      "source": [
        "print_square_with_start_val?"
      ],
      "execution_count": 0,
      "outputs": []
    },
    {
      "metadata": {
        "id": "iOqyHHuwRGUr",
        "colab_type": "code",
        "colab": {}
      },
      "cell_type": "code",
      "source": [
        ""
      ],
      "execution_count": 0,
      "outputs": []
    },
    {
      "metadata": {
        "id": "sWoLbJrRTHBV",
        "colab_type": "text"
      },
      "cell_type": "markdown",
      "source": [
        "# Lists"
      ]
    },
    {
      "metadata": {
        "id": "d0z7xSavTJQ1",
        "colab_type": "code",
        "colab": {}
      },
      "cell_type": "code",
      "source": [
        "my_phone = [name, is_android, screen_size]"
      ],
      "execution_count": 0,
      "outputs": []
    },
    {
      "metadata": {
        "id": "fncGYk08TS4k",
        "colab_type": "code",
        "outputId": "f92312ba-3a4e-4960-ec2c-2f8cfda940eb",
        "colab": {
          "base_uri": "https://localhost:8080/",
          "height": 34
        }
      },
      "cell_type": "code",
      "source": [
        "type(my_phone)"
      ],
      "execution_count": 0,
      "outputs": [
        {
          "output_type": "execute_result",
          "data": {
            "text/plain": [
              "list"
            ]
          },
          "metadata": {
            "tags": []
          },
          "execution_count": 58
        }
      ]
    },
    {
      "metadata": {
        "id": "c5t751tATXS2",
        "colab_type": "code",
        "outputId": "0dac7d27-0d53-4f82-899d-9667d069505c",
        "colab": {
          "base_uri": "https://localhost:8080/",
          "height": 34
        }
      },
      "cell_type": "code",
      "source": [
        "print(my_phone)"
      ],
      "execution_count": 0,
      "outputs": [
        {
          "output_type": "stream",
          "text": [
            "['iphone 5s', False, 4.3]\n"
          ],
          "name": "stdout"
        }
      ]
    },
    {
      "metadata": {
        "id": "iHJzGMMzTdYo",
        "colab_type": "code",
        "outputId": "5af3b721-a9fd-401d-bdc4-a9da12264e16",
        "colab": {
          "base_uri": "https://localhost:8080/",
          "height": 34
        }
      },
      "cell_type": "code",
      "source": [
        "  my_phone[2]"
      ],
      "execution_count": 0,
      "outputs": [
        {
          "output_type": "execute_result",
          "data": {
            "text/plain": [
              "4.3"
            ]
          },
          "metadata": {
            "tags": []
          },
          "execution_count": 63
        }
      ]
    },
    {
      "metadata": {
        "id": "-TcOCPv5Tjlx",
        "colab_type": "code",
        "outputId": "c43f9fd1-a01a-460b-df1b-61b28a7de0b3",
        "colab": {
          "base_uri": "https://localhost:8080/",
          "height": 34
        }
      },
      "cell_type": "code",
      "source": [
        "type(my_phone[0])"
      ],
      "execution_count": 0,
      "outputs": [
        {
          "output_type": "execute_result",
          "data": {
            "text/plain": [
              "str"
            ]
          },
          "metadata": {
            "tags": []
          },
          "execution_count": 61
        }
      ]
    },
    {
      "metadata": {
        "id": "D0tdQCnJTpnM",
        "colab_type": "code",
        "outputId": "b69784d8-afbf-411c-cc63-de530ec601e8",
        "colab": {
          "base_uri": "https://localhost:8080/",
          "height": 34
        }
      },
      "cell_type": "code",
      "source": [
        "my_phone[1:3]"
      ],
      "execution_count": 0,
      "outputs": [
        {
          "output_type": "execute_result",
          "data": {
            "text/plain": [
              "[False, 4.3]"
            ]
          },
          "metadata": {
            "tags": []
          },
          "execution_count": 64
        }
      ]
    },
    {
      "metadata": {
        "id": "aOcNyKV5Tx2I",
        "colab_type": "code",
        "outputId": "1b31ee26-43b6-4b55-bd88-6e58c3a3e798",
        "colab": {
          "base_uri": "https://localhost:8080/",
          "height": 34
        }
      },
      "cell_type": "code",
      "source": [
        "my_dads_phone = my_phone\n",
        "print(my_dads_phone)"
      ],
      "execution_count": 0,
      "outputs": [
        {
          "output_type": "stream",
          "text": [
            "['iphone 5s', False, 4.3]\n"
          ],
          "name": "stdout"
        }
      ]
    },
    {
      "metadata": {
        "id": "Jakp7_HVUMIs",
        "colab_type": "code",
        "colab": {}
      },
      "cell_type": "code",
      "source": [
        "my_phone[2] = 4"
      ],
      "execution_count": 0,
      "outputs": []
    },
    {
      "metadata": {
        "id": "iqUtlnckUWsp",
        "colab_type": "code",
        "outputId": "e80d1d78-e4c7-4e6f-a0b0-2e26ce074322",
        "colab": {
          "base_uri": "https://localhost:8080/",
          "height": 34
        }
      },
      "cell_type": "code",
      "source": [
        "print(my_phone)"
      ],
      "execution_count": 0,
      "outputs": [
        {
          "output_type": "stream",
          "text": [
            "['iphone 5s', False, 4]\n"
          ],
          "name": "stdout"
        }
      ]
    },
    {
      "metadata": {
        "id": "P0Sbj1wqUZGX",
        "colab_type": "code",
        "outputId": "888bb8a4-d281-449d-b70b-9621665613fd",
        "colab": {
          "base_uri": "https://localhost:8080/",
          "height": 34
        }
      },
      "cell_type": "code",
      "source": [
        "print(my_dads_phone)"
      ],
      "execution_count": 0,
      "outputs": [
        {
          "output_type": "stream",
          "text": [
            "['iphone 5s', False, 4]\n"
          ],
          "name": "stdout"
        }
      ]
    },
    {
      "metadata": {
        "id": "3Up90PDYUd1j",
        "colab_type": "code",
        "colab": {}
      },
      "cell_type": "code",
      "source": [
        "my_dads_phone = list(my_phone)\n",
        "  # my_dads_phone = my_phone[:] "
      ],
      "execution_count": 0,
      "outputs": []
    },
    {
      "metadata": {
        "id": "-t4TXRx6VA0K",
        "colab_type": "code",
        "colab": {}
      },
      "cell_type": "code",
      "source": [
        "my_phone[2] = 4.3"
      ],
      "execution_count": 0,
      "outputs": []
    },
    {
      "metadata": {
        "id": "JOi18H8eVKms",
        "colab_type": "code",
        "outputId": "01e32ef2-d4bd-439e-bde3-0efec41921b7",
        "colab": {
          "base_uri": "https://localhost:8080/",
          "height": 51
        }
      },
      "cell_type": "code",
      "source": [
        "print(my_phone)\n",
        "print(my_dads_phone) # here deep copy happens"
      ],
      "execution_count": 0,
      "outputs": [
        {
          "output_type": "stream",
          "text": [
            "['iphone 5s', False, 4.3]\n",
            "['iphone 5s', False, 4]\n"
          ],
          "name": "stdout"
        }
      ]
    },
    {
      "metadata": {
        "id": "EyXJium6VQGi",
        "colab_type": "code",
        "outputId": "31db9f52-185c-4f3f-e573-a6fb17f1e4e7",
        "colab": {
          "base_uri": "https://localhost:8080/",
          "height": 34
        }
      },
      "cell_type": "code",
      "source": [
        "len(my_phone)"
      ],
      "execution_count": 0,
      "outputs": [
        {
          "output_type": "execute_result",
          "data": {
            "text/plain": [
              "18"
            ]
          },
          "metadata": {
            "tags": []
          },
          "execution_count": 97
        }
      ]
    },
    {
      "metadata": {
        "id": "LttVxoWhVkxo",
        "colab_type": "code",
        "colab": {}
      },
      "cell_type": "code",
      "source": [
        "len?\n"
      ],
      "execution_count": 0,
      "outputs": []
    },
    {
      "metadata": {
        "id": "HjjKNIi8Vm6i",
        "colab_type": "code",
        "colab": {}
      },
      "cell_type": "code",
      "source": [
        "my_phone.append('3G')"
      ],
      "execution_count": 0,
      "outputs": []
    },
    {
      "metadata": {
        "id": "RiWgxP1DVy9y",
        "colab_type": "code",
        "outputId": "9a5132f3-feff-4da4-c559-9033818e05ca",
        "colab": {
          "base_uri": "https://localhost:8080/",
          "height": 54
        }
      },
      "cell_type": "code",
      "source": [
        "print(my_phone)"
      ],
      "execution_count": 0,
      "outputs": [
        {
          "output_type": "stream",
          "text": [
            "['iphone 5s', False, 4.3, '3G', 'iphone 5s', False, 4.3, '3G', 'single_sim', 'single_sim', 'single_sim', 35000, 'single_sim', 35000, 'single_sim', 35000, 'single_sim', 35000, 'single_sim', 35000]\n"
          ],
          "name": "stdout"
        }
      ]
    },
    {
      "metadata": {
        "id": "be6CXryIV16j",
        "colab_type": "code",
        "outputId": "e05527f2-153c-4406-94c9-047633addc64",
        "colab": {
          "base_uri": "https://localhost:8080/",
          "height": 34
        }
      },
      "cell_type": "code",
      "source": [
        "len(my_phone)"
      ],
      "execution_count": 0,
      "outputs": [
        {
          "output_type": "execute_result",
          "data": {
            "text/plain": [
              "18"
            ]
          },
          "metadata": {
            "tags": []
          },
          "execution_count": 96
        }
      ]
    },
    {
      "metadata": {
        "id": "mZAciIDvV64z",
        "colab_type": "code",
        "colab": {}
      },
      "cell_type": "code",
      "source": [
        "iphone5s_some_prefs = ['single_sim', 35000]"
      ],
      "execution_count": 0,
      "outputs": []
    },
    {
      "metadata": {
        "id": "yciWUAK8WEuH",
        "colab_type": "code",
        "colab": {}
      },
      "cell_type": "code",
      "source": [
        "my_phone = my_phone + iphone5s_some_prefs"
      ],
      "execution_count": 0,
      "outputs": []
    },
    {
      "metadata": {
        "id": "Yc_nGLJLWUQp",
        "colab_type": "code",
        "outputId": "21970a42-6856-48eb-f672-10045928887d",
        "colab": {
          "base_uri": "https://localhost:8080/",
          "height": 54
        }
      },
      "cell_type": "code",
      "source": [
        "print(my_phone)"
      ],
      "execution_count": 0,
      "outputs": [
        {
          "output_type": "stream",
          "text": [
            "['iphone 5s', False, 4.3, '3G', 'iphone 5s', False, 4.3, '3G', 'single_sim', 'single_sim', 'single_sim', 35000, 'single_sim', 35000, 'single_sim', 35000, 'single_sim', 35000, 'single_sim', 35000]\n"
          ],
          "name": "stdout"
        }
      ]
    },
    {
      "metadata": {
        "id": "AS3eAbVWWYeQ",
        "colab_type": "code",
        "outputId": "ea771a11-cdff-437b-a8ab-403909290531",
        "colab": {
          "base_uri": "https://localhost:8080/",
          "height": 357
        }
      },
      "cell_type": "code",
      "source": [
        "for data in my_phone:\n",
        "  print(data)"
      ],
      "execution_count": 0,
      "outputs": [
        {
          "output_type": "stream",
          "text": [
            "iphone 5s\n",
            "False\n",
            "4.3\n",
            "3G\n",
            "iphone 5s\n",
            "False\n",
            "4.3\n",
            "3G\n",
            "single_sim\n",
            "single_sim\n",
            "single_sim\n",
            "35000\n",
            "single_sim\n",
            "35000\n",
            "single_sim\n",
            "35000\n",
            "single_sim\n",
            "35000\n",
            "single_sim\n",
            "35000\n"
          ],
          "name": "stdout"
        }
      ]
    },
    {
      "metadata": {
        "id": "BeXOOIhrXzcw",
        "colab_type": "code",
        "outputId": "e88465cf-c2b2-4497-f0eb-8ce46636d1ce",
        "colab": {
          "base_uri": "https://localhost:8080/",
          "height": 34
        }
      },
      "cell_type": "code",
      "source": [
        "range(5)"
      ],
      "execution_count": 0,
      "outputs": [
        {
          "output_type": "execute_result",
          "data": {
            "text/plain": [
              "range(0, 5)"
            ]
          },
          "metadata": {
            "tags": []
          },
          "execution_count": 102
        }
      ]
    },
    {
      "metadata": {
        "id": "Stuw2VpMX4GM",
        "colab_type": "code",
        "outputId": "57365783-2da8-46df-8264-ef93c6bd20b1",
        "colab": {
          "base_uri": "https://localhost:8080/",
          "height": 34
        }
      },
      "cell_type": "code",
      "source": [
        "print(list(range(5)))"
      ],
      "execution_count": 0,
      "outputs": [
        {
          "output_type": "stream",
          "text": [
            "[0, 1, 2, 3, 4]\n"
          ],
          "name": "stdout"
        }
      ]
    },
    {
      "metadata": {
        "id": "m7LyLcfBX95_",
        "colab_type": "code",
        "outputId": "565cd279-2928-4ba1-8c81-a04ef3ef67b8",
        "colab": {
          "base_uri": "https://localhost:8080/",
          "height": 34
        }
      },
      "cell_type": "code",
      "source": [
        "a = list(range(5))\n",
        "print(a)"
      ],
      "execution_count": 0,
      "outputs": [
        {
          "output_type": "stream",
          "text": [
            "[0, 1, 2, 3, 4]\n"
          ],
          "name": "stdout"
        }
      ]
    },
    {
      "metadata": {
        "id": "6nq8mCVwYQR-",
        "colab_type": "code",
        "colab": {}
      },
      "cell_type": "code",
      "source": [
        "b = list(map(lambda x: x ** 2, a))"
      ],
      "execution_count": 0,
      "outputs": []
    },
    {
      "metadata": {
        "id": "Aoyadu_HYhRe",
        "colab_type": "code",
        "outputId": "530f3bbe-1155-44e3-94dd-eaabeba7e0cf",
        "colab": {
          "base_uri": "https://localhost:8080/",
          "height": 34
        }
      },
      "cell_type": "code",
      "source": [
        "print(b)"
      ],
      "execution_count": 0,
      "outputs": [
        {
          "output_type": "stream",
          "text": [
            "[0, 1, 4, 9, 16]\n"
          ],
          "name": "stdout"
        }
      ]
    },
    {
      "metadata": {
        "id": "L16PxZ0fYjuI",
        "colab_type": "code",
        "colab": {}
      },
      "cell_type": "code",
      "source": [
        "c = list(filter(lambda x: x % 2 == 0, b))"
      ],
      "execution_count": 0,
      "outputs": []
    },
    {
      "metadata": {
        "id": "nfd1mnjeY4Ha",
        "colab_type": "code",
        "outputId": "aa8896ea-657b-45ac-8f5f-d53a378129a4",
        "colab": {
          "base_uri": "https://localhost:8080/",
          "height": 34
        }
      },
      "cell_type": "code",
      "source": [
        "print(c)"
      ],
      "execution_count": 0,
      "outputs": [
        {
          "output_type": "stream",
          "text": [
            "[0, 4, 16]\n"
          ],
          "name": "stdout"
        }
      ]
    },
    {
      "metadata": {
        "id": "c67O7PHEY6Ht",
        "colab_type": "code",
        "outputId": "b8cd03a1-32a2-4b75-ff64-e5fda270cd1a",
        "colab": {
          "base_uri": "https://localhost:8080/",
          "height": 71
        }
      },
      "cell_type": "code",
      "source": [
        "print(my_phone)\n",
        "type(my_phone)"
      ],
      "execution_count": 0,
      "outputs": [
        {
          "output_type": "stream",
          "text": [
            "['iphone 5s', False, 4.3, '3G', 'iphone 5s', False, 4.3, '3G', 'single_sim', 'single_sim', 'single_sim', 35000, 'single_sim', 35000, 'single_sim', 35000, 'single_sim', 35000, 'single_sim', 35000]\n"
          ],
          "name": "stdout"
        },
        {
          "output_type": "execute_result",
          "data": {
            "text/plain": [
              "list"
            ]
          },
          "metadata": {
            "tags": []
          },
          "execution_count": 111
        }
      ]
    },
    {
      "metadata": {
        "id": "1OP4iwpTmwdV",
        "colab_type": "text"
      },
      "cell_type": "markdown",
      "source": [
        "# Tuples, sets and dicts"
      ]
    },
    {
      "metadata": {
        "id": "HROy-EvWi2Qh",
        "colab_type": "code",
        "outputId": "404cbfcb-7a82-499f-c2b5-0dd920b19905",
        "colab": {
          "base_uri": "https://localhost:8080/",
          "height": 51
        }
      },
      "cell_type": "code",
      "source": [
        "my_phone_tuple = ('RedmiN5', False, 5.5)\n",
        "print(my_phone_tuple)\n",
        "type(my_phone_tuple)"
      ],
      "execution_count": 0,
      "outputs": [
        {
          "output_type": "stream",
          "text": [
            "('RedmiN5', False, 5.5)\n"
          ],
          "name": "stdout"
        },
        {
          "output_type": "execute_result",
          "data": {
            "text/plain": [
              "tuple"
            ]
          },
          "metadata": {
            "tags": []
          },
          "execution_count": 113
        }
      ]
    },
    {
      "metadata": {
        "id": "KW51UA4zjTkr",
        "colab_type": "code",
        "outputId": "8535205c-c3e7-4adb-cfe2-5c32db82d32a",
        "colab": {
          "base_uri": "https://localhost:8080/",
          "height": 34
        }
      },
      "cell_type": "code",
      "source": [
        "my_phone_tuple[0:2]"
      ],
      "execution_count": 0,
      "outputs": [
        {
          "output_type": "execute_result",
          "data": {
            "text/plain": [
              "('RedmiN5', False)"
            ]
          },
          "metadata": {
            "tags": []
          },
          "execution_count": 116
        }
      ]
    },
    {
      "metadata": {
        "id": "plldMp9_jljb",
        "colab_type": "code",
        "outputId": "46d88144-8750-4301-c442-f985f8e2635a",
        "colab": {
          "base_uri": "https://localhost:8080/",
          "height": 68
        }
      },
      "cell_type": "code",
      "source": [
        "for data in my_phone_tuple:\n",
        "  print(data)"
      ],
      "execution_count": 0,
      "outputs": [
        {
          "output_type": "stream",
          "text": [
            "RedmiN5\n",
            "False\n",
            "5.5\n"
          ],
          "name": "stdout"
        }
      ]
    },
    {
      "metadata": {
        "id": "dkFDlf0Kj3Oe",
        "colab_type": "code",
        "outputId": "998176ba-ea93-4ec8-e239-9767c4648f12",
        "colab": {
          "base_uri": "https://localhost:8080/",
          "height": 163
        }
      },
      "cell_type": "code",
      "source": [
        "my_phone_tuple[2] = 4"
      ],
      "execution_count": 0,
      "outputs": [
        {
          "output_type": "error",
          "ename": "TypeError",
          "evalue": "ignored",
          "traceback": [
            "\u001b[0;31m---------------------------------------------------------------------------\u001b[0m",
            "\u001b[0;31mTypeError\u001b[0m                                 Traceback (most recent call last)",
            "\u001b[0;32m<ipython-input-139-01379ee61114>\u001b[0m in \u001b[0;36m<module>\u001b[0;34m()\u001b[0m\n\u001b[0;32m----> 1\u001b[0;31m \u001b[0mmy_phone_tuple\u001b[0m\u001b[0;34m[\u001b[0m\u001b[0;36m2\u001b[0m\u001b[0;34m]\u001b[0m \u001b[0;34m=\u001b[0m \u001b[0;36m4\u001b[0m\u001b[0;34m\u001b[0m\u001b[0;34m\u001b[0m\u001b[0m\n\u001b[0m",
            "\u001b[0;31mTypeError\u001b[0m: 'tuple' object does not support item assignment"
          ]
        }
      ]
    },
    {
      "metadata": {
        "id": "YATffBsokAY4",
        "colab_type": "code",
        "colab": {}
      },
      "cell_type": "code",
      "source": [
        "import time"
      ],
      "execution_count": 0,
      "outputs": []
    },
    {
      "metadata": {
        "id": "OS7ME63NkPpz",
        "colab_type": "code",
        "outputId": "3f336935-7a46-494a-feec-1f1368ffd09f",
        "colab": {
          "base_uri": "https://localhost:8080/",
          "height": 34
        }
      },
      "cell_type": "code",
      "source": [
        "tic = time.time()\n",
        " # Do something that takes time and is to me measured\n",
        "toc = time.time()\n",
        "print('Elapsed time in seconds', toc - tic)"
      ],
      "execution_count": 0,
      "outputs": [
        {
          "output_type": "stream",
          "text": [
            "Elapsed time in seconds 2.6464462280273438e-05\n"
          ],
          "name": "stdout"
        }
      ]
    },
    {
      "metadata": {
        "id": "5CnazCbGkzog",
        "colab_type": "code",
        "outputId": "dace6b1e-5a6f-419a-99f4-1377e2c5a36b",
        "colab": {
          "base_uri": "https://localhost:8080/",
          "height": 34
        }
      },
      "cell_type": "code",
      "source": [
        "my_list = list(range(1000000))\n",
        "tic = time.time()\n",
        "my_list_squared = map(lambda i: i ** 2, my_list)\n",
        "toc = time.time()\n",
        "print('Elapsed time in seconds', toc - tic)"
      ],
      "execution_count": 0,
      "outputs": [
        {
          "output_type": "stream",
          "text": [
            "Elapsed time in seconds 0.015686988830566406\n"
          ],
          "name": "stdout"
        }
      ]
    },
    {
      "metadata": {
        "id": "J_N-NVp4lr0W",
        "colab_type": "code",
        "outputId": "1e548477-5e90-404a-e886-32252ce9797f",
        "colab": {
          "base_uri": "https://localhost:8080/",
          "height": 34
        }
      },
      "cell_type": "code",
      "source": [
        "my_tuple = tuple(range(1000000))\n",
        "tic = time.time()\n",
        "my_tuple_squared = map(lambda i: i ** 2, my_tuple)\n",
        "toc = time.time()\n",
        "print('Elapsed time in seconds', toc - tic)"
      ],
      "execution_count": 0,
      "outputs": [
        {
          "output_type": "stream",
          "text": [
            "Elapsed time in seconds 0.024968385696411133\n"
          ],
          "name": "stdout"
        }
      ]
    },
    {
      "metadata": {
        "id": "sAA2xlNgmG37",
        "colab_type": "code",
        "colab": {}
      },
      "cell_type": "code",
      "source": [
        "my_set = set(my_phone)"
      ],
      "execution_count": 0,
      "outputs": []
    },
    {
      "metadata": {
        "id": "DzOkiY_Sm0sU",
        "colab_type": "code",
        "outputId": "1d460b18-a119-4866-ff31-486378d30403",
        "colab": {
          "base_uri": "https://localhost:8080/",
          "height": 34
        }
      },
      "cell_type": "code",
      "source": [
        "print(my_set)"
      ],
      "execution_count": 0,
      "outputs": [
        {
          "output_type": "stream",
          "text": [
            "{False, 4.3, 'iphone 5s', '3G', 'single_sim', 35000}\n"
          ],
          "name": "stdout"
        }
      ]
    },
    {
      "metadata": {
        "id": "ySU4xqNtnRoY",
        "colab_type": "code",
        "colab": {}
      },
      "cell_type": "code",
      "source": [
        "my_phone.append(4.3)"
      ],
      "execution_count": 0,
      "outputs": []
    },
    {
      "metadata": {
        "id": "_dMqlMHWneyb",
        "colab_type": "code",
        "outputId": "1470213d-bc76-4d28-cc69-f0a2529f0d3e",
        "colab": {
          "base_uri": "https://localhost:8080/",
          "height": 54
        }
      },
      "cell_type": "code",
      "source": [
        "print(my_phone)"
      ],
      "execution_count": 0,
      "outputs": [
        {
          "output_type": "stream",
          "text": [
            "['iphone 5s', False, 4.3, '3G', 'iphone 5s', False, 4.3, '3G', 'single_sim', 'single_sim', 'single_sim', 35000, 'single_sim', 35000, 'single_sim', 35000, 'single_sim', 35000, 'single_sim', 35000, 4.3]\n"
          ],
          "name": "stdout"
        }
      ]
    },
    {
      "metadata": {
        "id": "6jDaS2xunqea",
        "colab_type": "code",
        "colab": {}
      },
      "cell_type": "code",
      "source": [
        "my_set = set(my_phone)"
      ],
      "execution_count": 0,
      "outputs": []
    },
    {
      "metadata": {
        "id": "Yty1DPXZn5tT",
        "colab_type": "code",
        "outputId": "a46f74dd-a4af-4722-e5ab-75bfc5aeccb6",
        "colab": {
          "base_uri": "https://localhost:8080/",
          "height": 34
        }
      },
      "cell_type": "code",
      "source": [
        "print(my_set)"
      ],
      "execution_count": 0,
      "outputs": [
        {
          "output_type": "stream",
          "text": [
            "{False, 4.3, 'iphone 5s', '3G', 'single_sim', 35000}\n"
          ],
          "name": "stdout"
        }
      ]
    },
    {
      "metadata": {
        "id": "9bQFeiamn-jl",
        "colab_type": "code",
        "outputId": "0c015dea-5c60-4ea8-a696-5bafe4aba127",
        "colab": {
          "base_uri": "https://localhost:8080/",
          "height": 85
        }
      },
      "cell_type": "code",
      "source": [
        "my_list = list(range(1000000))\n",
        "tic = time.time()\n",
        "print(98731 is my_list)\n",
        "print(131591 in my_list)\n",
        "print(11111111111 in my_list)\n",
        "toc = time.time()\n",
        "print('Elapsed time= ', toc - tic)"
      ],
      "execution_count": 0,
      "outputs": [
        {
          "output_type": "stream",
          "text": [
            "False\n",
            "True\n",
            "False\n",
            "Elapsed time=  0.016788244247436523\n"
          ],
          "name": "stdout"
        }
      ]
    },
    {
      "metadata": {
        "id": "2AcJuCG1oshN",
        "colab_type": "code",
        "outputId": "b75d2aaa-08fd-4016-e93b-db5b189fb7cc",
        "colab": {
          "base_uri": "https://localhost:8080/",
          "height": 85
        }
      },
      "cell_type": "code",
      "source": [
        "my_set = set(range(1000000))\n",
        "tic = time.time()\n",
        "print(98731 is my_set)\n",
        "print(131591 in my_set)\n",
        "print(11111111111 in my_set)\n",
        "toc = time.time()\n",
        "print('Elapsed time= ', toc - tic)"
      ],
      "execution_count": 0,
      "outputs": [
        {
          "output_type": "stream",
          "text": [
            "False\n",
            "True\n",
            "False\n",
            "Elapsed time=  0.0013818740844726562\n"
          ],
          "name": "stdout"
        }
      ]
    },
    {
      "metadata": {
        "id": "ziFBnmHHo5Ld",
        "colab_type": "code",
        "colab": {}
      },
      "cell_type": "code",
      "source": [
        "my_phone_dict = {}"
      ],
      "execution_count": 0,
      "outputs": []
    },
    {
      "metadata": {
        "id": "TQTXquSupWwu",
        "colab_type": "code",
        "outputId": "72fc776f-0a0e-463c-b955-7b9c1c40322c",
        "colab": {
          "base_uri": "https://localhost:8080/",
          "height": 34
        }
      },
      "cell_type": "code",
      "source": [
        "type(my_phone_dict)"
      ],
      "execution_count": 0,
      "outputs": [
        {
          "output_type": "execute_result",
          "data": {
            "text/plain": [
              "dict"
            ]
          },
          "metadata": {
            "tags": []
          },
          "execution_count": 151
        }
      ]
    },
    {
      "metadata": {
        "id": "2TR-n9nxpZhx",
        "colab_type": "code",
        "colab": {}
      },
      "cell_type": "code",
      "source": [
        "my_phone_dict['name'] = 'Redmi N5'\n",
        "my_phone_dict['is_ios'] = False\n",
        "my_phone_dict['screen_size'] = 5.5"
      ],
      "execution_count": 0,
      "outputs": []
    },
    {
      "metadata": {
        "id": "-QlsY6ZnqEC9",
        "colab_type": "code",
        "outputId": "0c9d93b3-41b6-4040-9d1e-d99d1cafb48d",
        "colab": {
          "base_uri": "https://localhost:8080/",
          "height": 34
        }
      },
      "cell_type": "code",
      "source": [
        "print(my_phone_dict)"
      ],
      "execution_count": 0,
      "outputs": [
        {
          "output_type": "stream",
          "text": [
            "{'name': 'Redmi N5', 'is_ios': False, 'screen_size': 5.5}\n"
          ],
          "name": "stdout"
        }
      ]
    },
    {
      "metadata": {
        "id": "jgZz_pF_qH0I",
        "colab_type": "code",
        "outputId": "63e9117e-a11e-489d-c3c7-ed4f9461ad00",
        "colab": {
          "base_uri": "https://localhost:8080/",
          "height": 34
        }
      },
      "cell_type": "code",
      "source": [
        "my_phone_dict['name']"
      ],
      "execution_count": 0,
      "outputs": [
        {
          "output_type": "execute_result",
          "data": {
            "text/plain": [
              "'Redmi N5'"
            ]
          },
          "metadata": {
            "tags": []
          },
          "execution_count": 156
        }
      ]
    },
    {
      "metadata": {
        "id": "rzB8TngJqYZn",
        "colab_type": "code",
        "outputId": "6b4b1b29-881e-4b40-d58f-1b3e087d28c5",
        "colab": {
          "base_uri": "https://localhost:8080/",
          "height": 34
        }
      },
      "cell_type": "code",
      "source": [
        "print(my_phone_dict.keys())"
      ],
      "execution_count": 0,
      "outputs": [
        {
          "output_type": "stream",
          "text": [
            "dict_keys(['name', 'is_ios', 'screen_size'])\n"
          ],
          "name": "stdout"
        }
      ]
    },
    {
      "metadata": {
        "id": "mo2fvZHnqkGT",
        "colab_type": "code",
        "outputId": "aa517313-6bd6-4e33-cc49-a2325dc14726",
        "colab": {
          "base_uri": "https://localhost:8080/",
          "height": 34
        }
      },
      "cell_type": "code",
      "source": [
        "print(my_phone_dict.values())"
      ],
      "execution_count": 0,
      "outputs": [
        {
          "output_type": "stream",
          "text": [
            "dict_values(['Redmi N5', False, 5.5])\n"
          ],
          "name": "stdout"
        }
      ]
    },
    {
      "metadata": {
        "id": "QJZNMGA2qpjG",
        "colab_type": "code",
        "outputId": "2db8cef4-93d0-40eb-d34b-22a9d7af4dc8",
        "colab": {
          "base_uri": "https://localhost:8080/",
          "height": 34
        }
      },
      "cell_type": "code",
      "source": [
        "print(my_phone_dict.items())"
      ],
      "execution_count": 0,
      "outputs": [
        {
          "output_type": "stream",
          "text": [
            "dict_items([('name', 'Redmi N5'), ('is_ios', False), ('screen_size', 5.5)])\n"
          ],
          "name": "stdout"
        }
      ]
    },
    {
      "metadata": {
        "id": "_rRTGr1pqtJ3",
        "colab_type": "code",
        "outputId": "04b43d5f-71eb-4b29-d0ee-93a14d298a49",
        "colab": {
          "base_uri": "https://localhost:8080/",
          "height": 68
        }
      },
      "cell_type": "code",
      "source": [
        "for key in my_phone_dict.keys():\n",
        "  print(key, ':',  my_phone_dict[key])"
      ],
      "execution_count": 0,
      "outputs": [
        {
          "output_type": "stream",
          "text": [
            "name : Redmi N5\n",
            "is_ios : False\n",
            "screen_size : 5.5\n"
          ],
          "name": "stdout"
        }
      ]
    },
    {
      "metadata": {
        "id": "0bbn10fCrCXC",
        "colab_type": "code",
        "colab": {}
      },
      "cell_type": "code",
      "source": [
        ""
      ],
      "execution_count": 0,
      "outputs": []
    },
    {
      "metadata": {
        "id": "XdOtlDx1sB85",
        "colab_type": "text"
      },
      "cell_type": "markdown",
      "source": [
        "# Python packages"
      ]
    },
    {
      "metadata": {
        "id": "JUjn73UrsI7l",
        "colab_type": "code",
        "colab": {}
      },
      "cell_type": "code",
      "source": [
        "import math"
      ],
      "execution_count": 0,
      "outputs": []
    },
    {
      "metadata": {
        "id": "4LgvA1JusPoc",
        "colab_type": "code",
        "outputId": "4eb0e2c3-46a1-497f-e798-47dbb31f5170",
        "colab": {
          "base_uri": "https://localhost:8080/",
          "height": 34
        }
      },
      "cell_type": "code",
      "source": [
        "a = math.sqrt(200)\n",
        "print(a)"
      ],
      "execution_count": 0,
      "outputs": [
        {
          "output_type": "stream",
          "text": [
            "14.142135623730951\n"
          ],
          "name": "stdout"
        }
      ]
    },
    {
      "metadata": {
        "id": "mqXwMjujsTiu",
        "colab_type": "code",
        "outputId": "bf5f6262-80a3-4e87-9c8c-375b6895ada4",
        "colab": {
          "base_uri": "https://localhost:8080/",
          "height": 34
        }
      },
      "cell_type": "code",
      "source": [
        "a = math.pow(100, 0.5)\n",
        "print(a)"
      ],
      "execution_count": 0,
      "outputs": [
        {
          "output_type": "stream",
          "text": [
            "10.0\n"
          ],
          "name": "stdout"
        }
      ]
    },
    {
      "metadata": {
        "id": "U17npht0set5",
        "colab_type": "code",
        "outputId": "f60bda70-5178-4ba2-f896-e421ba5aea3a",
        "colab": {
          "base_uri": "https://localhost:8080/",
          "height": 54
        }
      },
      "cell_type": "code",
      "source": [
        "x = 100\n",
        "y = 1\n",
        "for i in range(1, x):\n",
        "  y *= i\n",
        "print('Factorial of', x, 'is', y)"
      ],
      "execution_count": 0,
      "outputs": [
        {
          "output_type": "stream",
          "text": [
            "Factorial of 100 is 933262154439441526816992388562667004907159682643816214685929638952175999932299156089414639761565182862536979208272237582511852109168640000000000000000000000\n"
          ],
          "name": "stdout"
        }
      ]
    },
    {
      "metadata": {
        "id": "nYe7OFxwtCxw",
        "colab_type": "code",
        "colab": {}
      },
      "cell_type": "code",
      "source": [
        "y =  math.factorial(x) "
      ],
      "execution_count": 0,
      "outputs": []
    },
    {
      "metadata": {
        "id": "w1Un_94Ptjwi",
        "colab_type": "code",
        "colab": {}
      },
      "cell_type": "code",
      "source": [
        "import math as m"
      ],
      "execution_count": 0,
      "outputs": []
    },
    {
      "metadata": {
        "id": "2WMnT3fQtnot",
        "colab_type": "code",
        "colab": {}
      },
      "cell_type": "code",
      "source": [
        "y =  m.factorial(x)"
      ],
      "execution_count": 0,
      "outputs": []
    },
    {
      "metadata": {
        "id": "AYkDJ0astslB",
        "colab_type": "code",
        "colab": {}
      },
      "cell_type": "code",
      "source": [
        "from math import factorial"
      ],
      "execution_count": 0,
      "outputs": []
    },
    {
      "metadata": {
        "id": "OW-jjP6vtyo9",
        "colab_type": "code",
        "colab": {}
      },
      "cell_type": "code",
      "source": [
        "y = factorial(x)"
      ],
      "execution_count": 0,
      "outputs": []
    },
    {
      "metadata": {
        "id": "kl9c4pdct0pT",
        "colab_type": "code",
        "outputId": "2ee0b0c9-ebd3-47b1-f0fa-c3dde5aa23aa",
        "colab": {
          "base_uri": "https://localhost:8080/",
          "height": 51
        }
      },
      "cell_type": "code",
      "source": [
        "import time\n",
        "vals = list(range(1, 100))\n",
        "tic = time.time()\n",
        "for x in vals:\n",
        "  y = 1\n",
        "  for i in range(1, x):\n",
        "    y *= i\n",
        "toc = time.time()\n",
        "print('Elapsed time in secs with own function', toc - tic)\n",
        "\n",
        "tic = time.time()\n",
        "for x in vals:\n",
        "  y + math.factorial(x)\n",
        "toc = time.time()\n",
        "print('Elapsed time in secs with own function', toc - tic)"
      ],
      "execution_count": 0,
      "outputs": [
        {
          "output_type": "stream",
          "text": [
            "Elapsed time in secs with own function 0.0009083747863769531\n",
            "Elapsed time in secs with own function 0.00013637542724609375\n"
          ],
          "name": "stdout"
        }
      ]
    },
    {
      "metadata": {
        "id": "Ut647uoLwLdK",
        "colab_type": "code",
        "colab": {}
      },
      "cell_type": "code",
      "source": [
        "  !echo 'def hello():' > my_first_module.py\n",
        "  !echo '   print(\"hello! I am in a diff file!!\")' >> my_first_module.py"
      ],
      "execution_count": 0,
      "outputs": []
    },
    {
      "metadata": {
        "id": "WwXUosgRxNBH",
        "colab_type": "code",
        "outputId": "d2bbaeae-1d45-4039-cba8-7e73afb5770b",
        "colab": {
          "base_uri": "https://localhost:8080/",
          "height": 51
        }
      },
      "cell_type": "code",
      "source": [
        "!cat my_first_module.py"
      ],
      "execution_count": 0,
      "outputs": [
        {
          "output_type": "stream",
          "text": [
            "def hello():\n",
            "   print(\"hello! I am in a diff file!!\")\n"
          ],
          "name": "stdout"
        }
      ]
    },
    {
      "metadata": {
        "id": "NGzyipTGxV5x",
        "colab_type": "code",
        "colab": {}
      },
      "cell_type": "code",
      "source": [
        "import my_first_module"
      ],
      "execution_count": 0,
      "outputs": []
    },
    {
      "metadata": {
        "id": "we9J-kRryI6O",
        "colab_type": "code",
        "outputId": "5fb631b2-1fd2-4419-864d-d83e9f353516",
        "colab": {
          "base_uri": "https://localhost:8080/",
          "height": 34
        }
      },
      "cell_type": "code",
      "source": [
        "my_first_module.hello()"
      ],
      "execution_count": 0,
      "outputs": [
        {
          "output_type": "stream",
          "text": [
            "hello! I am in a diff file!!\n"
          ],
          "name": "stdout"
        }
      ]
    },
    {
      "metadata": {
        "id": "u47Stc7_yOe4",
        "colab_type": "code",
        "colab": {}
      },
      "cell_type": "code",
      "source": [
        "from my_first_module import hello"
      ],
      "execution_count": 0,
      "outputs": []
    },
    {
      "metadata": {
        "id": "FGaxX2ClyaX9",
        "colab_type": "code",
        "outputId": "d60b655f-2a38-426a-82e1-3c325cd6ef40",
        "colab": {
          "base_uri": "https://localhost:8080/",
          "height": 34
        }
      },
      "cell_type": "code",
      "source": [
        "hello()"
      ],
      "execution_count": 0,
      "outputs": [
        {
          "output_type": "stream",
          "text": [
            "hello! I am in a diff file!!\n"
          ],
          "name": "stdout"
        }
      ]
    },
    {
      "metadata": {
        "id": "QfCCvD1ew2ZT",
        "colab_type": "text"
      },
      "cell_type": "markdown",
      "source": [
        "# File Handling"
      ]
    },
    {
      "metadata": {
        "id": "lK05Q0hmydYT",
        "colab_type": "code",
        "outputId": "e9be6e8f-a009-4bbe-f1e4-f8118ef61aa6",
        "colab": {
          "base_uri": "https://localhost:8080/",
          "height": 377
        }
      },
      "cell_type": "code",
      "source": [
        "!wget https://www.dropbox.com/s/ilc9vzonqr4nrhb/test.csv"
      ],
      "execution_count": 0,
      "outputs": [
        {
          "output_type": "stream",
          "text": [
            "--2019-02-10 19:12:28--  https://www.dropbox.com/s/ilc9vzonqr4nrhb/test.csv\n",
            "Resolving www.dropbox.com (www.dropbox.com)... 162.125.1.1, 2620:100:6016:1::a27d:101\n",
            "Connecting to www.dropbox.com (www.dropbox.com)|162.125.1.1|:443... connected.\n",
            "HTTP request sent, awaiting response... 301 Moved Permanently\n",
            "Location: /s/raw/ilc9vzonqr4nrhb/test.csv [following]\n",
            "--2019-02-10 19:12:28--  https://www.dropbox.com/s/raw/ilc9vzonqr4nrhb/test.csv\n",
            "Reusing existing connection to www.dropbox.com:443.\n",
            "HTTP request sent, awaiting response... 302 Found\n",
            "Location: https://ucf4bcc0c8fbe6cc20db93407712.dl.dropboxusercontent.com/cd/0/inline/AbEBPxSjPaZg4gQX9ukmpaXKf3qslEbBWIaimZsv_qDSqtbGAE7Z4783blWxjHOojEzQTjKd-J4SF6AosxBSUzVo0AlRw1LX4LaHxh3AENrVpw/file# [following]\n",
            "--2019-02-10 19:12:28--  https://ucf4bcc0c8fbe6cc20db93407712.dl.dropboxusercontent.com/cd/0/inline/AbEBPxSjPaZg4gQX9ukmpaXKf3qslEbBWIaimZsv_qDSqtbGAE7Z4783blWxjHOojEzQTjKd-J4SF6AosxBSUzVo0AlRw1LX4LaHxh3AENrVpw/file\n",
            "Resolving ucf4bcc0c8fbe6cc20db93407712.dl.dropboxusercontent.com (ucf4bcc0c8fbe6cc20db93407712.dl.dropboxusercontent.com)... 162.125.1.6, 2620:100:601b:6::a27d:806\n",
            "Connecting to ucf4bcc0c8fbe6cc20db93407712.dl.dropboxusercontent.com (ucf4bcc0c8fbe6cc20db93407712.dl.dropboxusercontent.com)|162.125.1.6|:443... connected.\n",
            "HTTP request sent, awaiting response... 200 OK\n",
            "Length: 24 [text/plain]\n",
            "Saving to: ‘test.csv’\n",
            "\n",
            "\rtest.csv              0%[                    ]       0  --.-KB/s               \rtest.csv            100%[===================>]      24  --.-KB/s    in 0s      \n",
            "\n",
            "2019-02-10 19:12:29 (3.14 MB/s) - ‘test.csv’ saved [24/24]\n",
            "\n"
          ],
          "name": "stdout"
        }
      ]
    },
    {
      "metadata": {
        "id": "x1iPDGGdynw5",
        "colab_type": "code",
        "colab": {}
      },
      "cell_type": "code",
      "source": [
        "!ls"
      ],
      "execution_count": 0,
      "outputs": []
    },
    {
      "metadata": {
        "id": "MRri87x0ywnW",
        "colab_type": "code",
        "colab": {}
      },
      "cell_type": "code",
      "source": [
        "file = open('test.csv', 'r')"
      ],
      "execution_count": 0,
      "outputs": []
    },
    {
      "metadata": {
        "id": "mQagzc_nzO7y",
        "colab_type": "code",
        "colab": {}
      },
      "cell_type": "code",
      "source": [
        "s = file.readline()"
      ],
      "execution_count": 0,
      "outputs": []
    },
    {
      "metadata": {
        "id": "aBR2i7NB1P3z",
        "colab_type": "code",
        "outputId": "ccc6a437-53de-4830-ffed-4e43666ce7c4",
        "colab": {
          "base_uri": "https://localhost:8080/",
          "height": 51
        }
      },
      "cell_type": "code",
      "source": [
        "print(s)"
      ],
      "execution_count": 0,
      "outputs": [
        {
          "output_type": "stream",
          "text": [
            "Nitin here 56kg, 5.9, 5\n",
            "\n"
          ],
          "name": "stdout"
        }
      ]
    },
    {
      "metadata": {
        "id": "nqZMnZm31S5w",
        "colab_type": "code",
        "outputId": "a7574421-6418-41dc-c0c8-de41a9298f02",
        "colab": {
          "base_uri": "https://localhost:8080/",
          "height": 34
        }
      },
      "cell_type": "code",
      "source": [
        "print(s.split(','))"
      ],
      "execution_count": 0,
      "outputs": [
        {
          "output_type": "stream",
          "text": [
            "['Nitin here 56kg', ' 5.9', ' 5\\n']\n"
          ],
          "name": "stdout"
        }
      ]
    },
    {
      "metadata": {
        "id": "saqeKxMT1edL",
        "colab_type": "code",
        "colab": {}
      },
      "cell_type": "code",
      "source": [
        "file.close()"
      ],
      "execution_count": 0,
      "outputs": []
    },
    {
      "metadata": {
        "id": "Q7xWmEOY1so7",
        "colab_type": "code",
        "outputId": "65d8c99c-9f58-4c9b-c68d-d2905a03ec73",
        "colab": {
          "base_uri": "https://localhost:8080/",
          "height": 163
        }
      },
      "cell_type": "code",
      "source": [
        "file.readline()"
      ],
      "execution_count": 0,
      "outputs": [
        {
          "output_type": "error",
          "ename": "ValueError",
          "evalue": "ignored",
          "traceback": [
            "\u001b[0;31m---------------------------------------------------------------------------\u001b[0m",
            "\u001b[0;31mValueError\u001b[0m                                Traceback (most recent call last)",
            "\u001b[0;32m<ipython-input-13-1ba352a1fd91>\u001b[0m in \u001b[0;36m<module>\u001b[0;34m()\u001b[0m\n\u001b[0;32m----> 1\u001b[0;31m \u001b[0mfile\u001b[0m\u001b[0;34m.\u001b[0m\u001b[0mreadline\u001b[0m\u001b[0;34m(\u001b[0m\u001b[0;34m)\u001b[0m\u001b[0;34m\u001b[0m\u001b[0;34m\u001b[0m\u001b[0m\n\u001b[0m",
            "\u001b[0;31mValueError\u001b[0m: I/O operation on closed file."
          ]
        }
      ]
    },
    {
      "metadata": {
        "id": "7YKZ7obx1vYF",
        "colab_type": "code",
        "outputId": "57d6df78-cf59-44dc-8a02-dd8b26ae48f9",
        "colab": {
          "base_uri": "https://localhost:8080/",
          "height": 51
        }
      },
      "cell_type": "code",
      "source": [
        "with open('test.csv', 'r') as file:\n",
        "  print(file.readline())"
      ],
      "execution_count": 0,
      "outputs": [
        {
          "output_type": "stream",
          "text": [
            "Nitin here 56kg, 5.9, 5\n",
            "\n"
          ],
          "name": "stdout"
        }
      ]
    },
    {
      "metadata": {
        "id": "tTQ1VjFB2Eq9",
        "colab_type": "code",
        "outputId": "6250ec0d-e351-4edf-de86-9f8a21a014bf",
        "colab": {
          "base_uri": "https://localhost:8080/",
          "height": 51
        }
      },
      "cell_type": "code",
      "source": [
        "with open('test.csv', 'r') as file:\n",
        "  print(file.read())  # Reads all the line in file"
      ],
      "execution_count": 0,
      "outputs": [
        {
          "output_type": "stream",
          "text": [
            "Nitin here 56kg, 5.9, 5\n",
            "\n"
          ],
          "name": "stdout"
        }
      ]
    },
    {
      "metadata": {
        "id": "XOvbymeU2XXJ",
        "colab_type": "code",
        "outputId": "531346f2-7b09-43e4-cafe-05152590ea43",
        "colab": {
          "base_uri": "https://localhost:8080/",
          "height": 102
        }
      },
      "cell_type": "code",
      "source": [
        "with open('test.csv', 'r') as file:\n",
        "  for line in file:\n",
        "    for word in line.split(','):\n",
        "     print(word)\n",
        "  print('--------')"
      ],
      "execution_count": 0,
      "outputs": [
        {
          "output_type": "stream",
          "text": [
            "Nitin here 56kg\n",
            " 5.9\n",
            " 5\n",
            "\n",
            "--------\n"
          ],
          "name": "stdout"
        }
      ]
    },
    {
      "metadata": {
        "id": "kocJIi_H2piZ",
        "colab_type": "code",
        "colab": {}
      },
      "cell_type": "code",
      "source": [
        "with open('my_first_file_output.txt', 'w') as file:\n",
        "  file.write('hello world from my python code')"
      ],
      "execution_count": 0,
      "outputs": []
    },
    {
      "metadata": {
        "id": "GgOT2mNy305g",
        "colab_type": "code",
        "outputId": "4b75dfd1-f49f-45ce-a0eb-257d259250b8",
        "colab": {
          "base_uri": "https://localhost:8080/",
          "height": 34
        }
      },
      "cell_type": "code",
      "source": [
        "!cat my_first_file_output.txt"
      ],
      "execution_count": 0,
      "outputs": [
        {
          "output_type": "stream",
          "text": [
            "hello world from my python code"
          ],
          "name": "stdout"
        }
      ]
    },
    {
      "metadata": {
        "id": "u3r1jNmE4CdA",
        "colab_type": "code",
        "colab": {}
      },
      "cell_type": "code",
      "source": [
        ""
      ],
      "execution_count": 0,
      "outputs": []
    },
    {
      "metadata": {
        "id": "erEgxy1V4KHA",
        "colab_type": "text"
      },
      "cell_type": "markdown",
      "source": [
        "# Python Class"
      ]
    },
    {
      "metadata": {
        "id": "GZUJH4-v4Mtd",
        "colab_type": "code",
        "colab": {}
      },
      "cell_type": "code",
      "source": [
        "class MobilePhone:\n",
        "  \"\"\"This is a sample class to illustrate Python classes at work\"\"\"\n",
        "  def __init__(self, name, is_ios = False, screen_size = 5.5):\n",
        "    self.name = name\n",
        "    self.is_ios = is_ios\n",
        "    self.screen_size = screen_size\n",
        "    self.rating = -1\n",
        "    \n",
        "  def has_rating(self):\n",
        "      return self.rating > -1"
      ],
      "execution_count": 0,
      "outputs": []
    },
    {
      "metadata": {
        "id": "0i8UQtb14bhA",
        "colab_type": "code",
        "colab": {}
      },
      "cell_type": "code",
      "source": [
        "new_phone = MobilePhone('Redmi N4')"
      ],
      "execution_count": 0,
      "outputs": []
    },
    {
      "metadata": {
        "id": "u_P6uLGm4hq4",
        "colab_type": "code",
        "outputId": "444d0850-c408-43c0-97c7-a0369168fa83",
        "colab": {
          "base_uri": "https://localhost:8080/",
          "height": 34
        }
      },
      "cell_type": "code",
      "source": [
        "type(new_phone)"
      ],
      "execution_count": 0,
      "outputs": [
        {
          "output_type": "execute_result",
          "data": {
            "text/plain": [
              "__main__.MobilePhone"
            ]
          },
          "metadata": {
            "tags": []
          },
          "execution_count": 55
        }
      ]
    },
    {
      "metadata": {
        "id": "k712FcrY7RBB",
        "colab_type": "code",
        "outputId": "75f32893-c327-4af1-c8b4-e49b683bc057",
        "colab": {
          "base_uri": "https://localhost:8080/",
          "height": 34
        }
      },
      "cell_type": "code",
      "source": [
        "print(new_phone.name, new_phone.is_ios, new_phone.screen_size)\n"
      ],
      "execution_count": 0,
      "outputs": [
        {
          "output_type": "stream",
          "text": [
            "Redmi N4 False 4\n"
          ],
          "name": "stdout"
        }
      ]
    },
    {
      "metadata": {
        "id": "BP3K4ja777po",
        "colab_type": "code",
        "colab": {}
      },
      "cell_type": "code",
      "source": [
        "new_phone.screen_size = 4"
      ],
      "execution_count": 0,
      "outputs": []
    },
    {
      "metadata": {
        "id": "JzZL8bA3-KQY",
        "colab_type": "code",
        "outputId": "4f9bcdbc-e625-4ebd-b2ee-10ac96db18a2",
        "colab": {
          "base_uri": "https://localhost:8080/",
          "height": 34
        }
      },
      "cell_type": "code",
      "source": [
        "new_phone.has_rating()"
      ],
      "execution_count": 0,
      "outputs": [
        {
          "output_type": "execute_result",
          "data": {
            "text/plain": [
              "True"
            ]
          },
          "metadata": {
            "tags": []
          },
          "execution_count": 94
        }
      ]
    },
    {
      "metadata": {
        "id": "ypben_7F-ro4",
        "colab_type": "code",
        "colab": {}
      },
      "cell_type": "code",
      "source": [
        "new_phone.rating = 3.9"
      ],
      "execution_count": 0,
      "outputs": []
    },
    {
      "metadata": {
        "id": "8lRNhNYtCD-1",
        "colab_type": "code",
        "outputId": "5fa6362d-6cdf-4627-cda1-8442d5806f31",
        "colab": {
          "base_uri": "https://localhost:8080/",
          "height": 34
        }
      },
      "cell_type": "code",
      "source": [
        "MobilePhone.__doc__"
      ],
      "execution_count": 0,
      "outputs": [
        {
          "output_type": "execute_result",
          "data": {
            "text/plain": [
              "'This is a sample class to illustrate Python classes at work'"
            ]
          },
          "metadata": {
            "tags": []
          },
          "execution_count": 98
        }
      ]
    },
    {
      "metadata": {
        "id": "Qk-yQqJSCOhT",
        "colab_type": "code",
        "colab": {}
      },
      "cell_type": "code",
      "source": [
        "class android(MobilePhone):\n",
        "  def __init__(self, name):\n",
        "    MobilePhone.__init__(self, name, False, 4)\n",
        "    \n",
        "  def __str__(self):\n",
        "    return self.name + \" \" + str(self.is_ios) + \" \" + str(self.screen_size)"
      ],
      "execution_count": 0,
      "outputs": []
    },
    {
      "metadata": {
        "id": "WimtIixuCr9a",
        "colab_type": "code",
        "colab": {}
      },
      "cell_type": "code",
      "source": [
        "new_android = android('Redmi N5')"
      ],
      "execution_count": 0,
      "outputs": []
    },
    {
      "metadata": {
        "id": "e5BvuHvsCz7P",
        "colab_type": "code",
        "outputId": "3cf3be54-de50-4641-94bd-33c5f2c2449d",
        "colab": {
          "base_uri": "https://localhost:8080/",
          "height": 34
        }
      },
      "cell_type": "code",
      "source": [
        "new_android.is_ios"
      ],
      "execution_count": 0,
      "outputs": [
        {
          "output_type": "execute_result",
          "data": {
            "text/plain": [
              "False"
            ]
          },
          "metadata": {
            "tags": []
          },
          "execution_count": 123
        }
      ]
    },
    {
      "metadata": {
        "id": "HiH6XchNDdxi",
        "colab_type": "code",
        "outputId": "733fd828-6f20-4812-e74d-83d402f017ac",
        "colab": {
          "base_uri": "https://localhost:8080/",
          "height": 34
        }
      },
      "cell_type": "code",
      "source": [
        "print(new_android)"
      ],
      "execution_count": 0,
      "outputs": [
        {
          "output_type": "stream",
          "text": [
            "Redmi N5 False 4\n"
          ],
          "name": "stdout"
        }
      ]
    },
    {
      "metadata": {
        "id": "Ext18HFsEKY0",
        "colab_type": "code",
        "colab": {}
      },
      "cell_type": "code",
      "source": [
        ""
      ],
      "execution_count": 0,
      "outputs": []
    },
    {
      "metadata": {
        "id": "hZtvXMS2FBCB",
        "colab_type": "text"
      },
      "cell_type": "markdown",
      "source": [
        "# NumPy"
      ]
    },
    {
      "metadata": {
        "id": "FCq1PhEpFC4z",
        "colab_type": "code",
        "colab": {}
      },
      "cell_type": "code",
      "source": [
        "import numpy as np"
      ],
      "execution_count": 0,
      "outputs": []
    },
    {
      "metadata": {
        "id": "TnDGp9VrGFjM",
        "colab_type": "code",
        "outputId": "f0be5f75-c9b8-4b56-a61c-449330929ed9",
        "colab": {
          "base_uri": "https://localhost:8080/",
          "height": 34
        }
      },
      "cell_type": "code",
      "source": [
        "X = np.array([1,2,3])\n",
        "print(X)"
      ],
      "execution_count": 0,
      "outputs": [
        {
          "output_type": "stream",
          "text": [
            "[1 2 3]\n"
          ],
          "name": "stdout"
        }
      ]
    },
    {
      "metadata": {
        "id": "Kw2D2L-LGMF3",
        "colab_type": "code",
        "outputId": "3d633cf4-5d23-435b-9625-7e35c5e0c331",
        "colab": {
          "base_uri": "https://localhost:8080/",
          "height": 34
        }
      },
      "cell_type": "code",
      "source": [
        "type(X)"
      ],
      "execution_count": 0,
      "outputs": [
        {
          "output_type": "execute_result",
          "data": {
            "text/plain": [
              "numpy.ndarray"
            ]
          },
          "metadata": {
            "tags": []
          },
          "execution_count": 130
        }
      ]
    },
    {
      "metadata": {
        "id": "qkdp3TigGVtq",
        "colab_type": "code",
        "outputId": "6255d9f6-9a52-47e8-d7d4-eb7de11da725",
        "colab": {
          "base_uri": "https://localhost:8080/",
          "height": 34
        }
      },
      "cell_type": "code",
      "source": [
        "l = [4, 5, 10]\n",
        "X = np.asarray(l)\n",
        "type(X)"
      ],
      "execution_count": 0,
      "outputs": [
        {
          "output_type": "execute_result",
          "data": {
            "text/plain": [
              "numpy.ndarray"
            ]
          },
          "metadata": {
            "tags": []
          },
          "execution_count": 137
        }
      ]
    },
    {
      "metadata": {
        "id": "_oY9-Tk9Gh_7",
        "colab_type": "code",
        "outputId": "22f6688b-51af-411a-d9cc-d3ff29be370b",
        "colab": {
          "base_uri": "https://localhost:8080/",
          "height": 34
        }
      },
      "cell_type": "code",
      "source": [
        "print(X)"
      ],
      "execution_count": 0,
      "outputs": [
        {
          "output_type": "stream",
          "text": [
            "[ 4  5 10]\n"
          ],
          "name": "stdout"
        }
      ]
    },
    {
      "metadata": {
        "id": "J2aKRpoMGm3V",
        "colab_type": "code",
        "outputId": "9ff80163-7346-4018-81cb-12fdc804ce0b",
        "colab": {
          "base_uri": "https://localhost:8080/",
          "height": 34
        }
      },
      "cell_type": "code",
      "source": [
        "X = np.asarray(l, float)\n",
        "print(X)"
      ],
      "execution_count": 0,
      "outputs": [
        {
          "output_type": "stream",
          "text": [
            "[ 4.  5. 10.]\n"
          ],
          "name": "stdout"
        }
      ]
    },
    {
      "metadata": {
        "id": "TqLPyNugG4ny",
        "colab_type": "code",
        "outputId": "c4b4ea95-a931-4719-ae27-27165e441f76",
        "colab": {
          "base_uri": "https://localhost:8080/",
          "height": 34
        }
      },
      "cell_type": "code",
      "source": [
        "X.shape"
      ],
      "execution_count": 0,
      "outputs": [
        {
          "output_type": "execute_result",
          "data": {
            "text/plain": [
              "(3,)"
            ]
          },
          "metadata": {
            "tags": []
          },
          "execution_count": 141
        }
      ]
    },
    {
      "metadata": {
        "id": "rtU4nXdgHAXA",
        "colab_type": "code",
        "colab": {}
      },
      "cell_type": "code",
      "source": [
        "X = np.array([[1, 2, 3], [4, 5, 6]])"
      ],
      "execution_count": 0,
      "outputs": []
    },
    {
      "metadata": {
        "id": "l6LrbosNHZH9",
        "colab_type": "code",
        "outputId": "acbc0fe8-68ed-4556-b9b5-8d33e48d8b46",
        "colab": {
          "base_uri": "https://localhost:8080/",
          "height": 51
        }
      },
      "cell_type": "code",
      "source": [
        "print(X)"
      ],
      "execution_count": 0,
      "outputs": [
        {
          "output_type": "stream",
          "text": [
            "[[1 2 3]\n",
            " [4 5 6]]\n"
          ],
          "name": "stdout"
        }
      ]
    },
    {
      "metadata": {
        "id": "z1UU5YoPHbVe",
        "colab_type": "code",
        "outputId": "75e87f9c-64a9-4aad-9025-b41f2ebfdee5",
        "colab": {
          "base_uri": "https://localhost:8080/",
          "height": 34
        }
      },
      "cell_type": "code",
      "source": [
        "X.shape"
      ],
      "execution_count": 0,
      "outputs": [
        {
          "output_type": "execute_result",
          "data": {
            "text/plain": [
              "(2, 3)"
            ]
          },
          "metadata": {
            "tags": []
          },
          "execution_count": 145
        }
      ]
    },
    {
      "metadata": {
        "id": "lomQHiIJHfrx",
        "colab_type": "code",
        "outputId": "f05da359-9fe7-4d03-ee66-e046847d6fa8",
        "colab": {
          "base_uri": "https://localhost:8080/",
          "height": 34
        }
      },
      "cell_type": "code",
      "source": [
        "X[1, 2]"
      ],
      "execution_count": 0,
      "outputs": [
        {
          "output_type": "execute_result",
          "data": {
            "text/plain": [
              "6"
            ]
          },
          "metadata": {
            "tags": []
          },
          "execution_count": 147
        }
      ]
    },
    {
      "metadata": {
        "id": "j7F8LpCeHuVM",
        "colab_type": "code",
        "outputId": "e079efd3-d654-469b-8ed7-e819817725db",
        "colab": {
          "base_uri": "https://localhost:8080/",
          "height": 34
        }
      },
      "cell_type": "code",
      "source": [
        "X[0, 0:2]"
      ],
      "execution_count": 0,
      "outputs": [
        {
          "output_type": "execute_result",
          "data": {
            "text/plain": [
              "array([1, 2])"
            ]
          },
          "metadata": {
            "tags": []
          },
          "execution_count": 148
        }
      ]
    },
    {
      "metadata": {
        "id": "DDKfAClKH6Gh",
        "colab_type": "code",
        "outputId": "7994c089-1400-41dd-adf8-e3261e9371d5",
        "colab": {
          "base_uri": "https://localhost:8080/",
          "height": 34
        }
      },
      "cell_type": "code",
      "source": [
        "X[0, :]"
      ],
      "execution_count": 0,
      "outputs": [
        {
          "output_type": "execute_result",
          "data": {
            "text/plain": [
              "array([1, 2, 3])"
            ]
          },
          "metadata": {
            "tags": []
          },
          "execution_count": 149
        }
      ]
    },
    {
      "metadata": {
        "id": "tbCyuzR9H9jp",
        "colab_type": "code",
        "colab": {}
      },
      "cell_type": "code",
      "source": [
        "X = np.zeros((4, 5))"
      ],
      "execution_count": 0,
      "outputs": []
    },
    {
      "metadata": {
        "id": "572iGZ-HIKV5",
        "colab_type": "code",
        "outputId": "03c51994-b95f-440b-a065-dc1d5316c342",
        "colab": {
          "base_uri": "https://localhost:8080/",
          "height": 85
        }
      },
      "cell_type": "code",
      "source": [
        "print(X)"
      ],
      "execution_count": 0,
      "outputs": [
        {
          "output_type": "stream",
          "text": [
            "[[0. 0. 0. 0. 0.]\n",
            " [0. 0. 0. 0. 0.]\n",
            " [0. 0. 0. 0. 0.]\n",
            " [0. 0. 0. 0. 0.]]\n"
          ],
          "name": "stdout"
        }
      ]
    },
    {
      "metadata": {
        "id": "TZdUuvPAILTb",
        "colab_type": "code",
        "colab": {}
      },
      "cell_type": "code",
      "source": [
        "X = np.eye(4, 4)"
      ],
      "execution_count": 0,
      "outputs": []
    },
    {
      "metadata": {
        "id": "hQhNeyd3IX-I",
        "colab_type": "code",
        "outputId": "9212a88d-1321-454c-dbaf-58898f6ef9a6",
        "colab": {
          "base_uri": "https://localhost:8080/",
          "height": 85
        }
      },
      "cell_type": "code",
      "source": [
        "print(X)"
      ],
      "execution_count": 0,
      "outputs": [
        {
          "output_type": "stream",
          "text": [
            "[[1. 0. 0. 0.]\n",
            " [0. 1. 0. 0.]\n",
            " [0. 0. 1. 0.]\n",
            " [0. 0. 0. 1.]]\n"
          ],
          "name": "stdout"
        }
      ]
    },
    {
      "metadata": {
        "id": "d9rBjbjUIjAf",
        "colab_type": "code",
        "colab": {}
      },
      "cell_type": "code",
      "source": [
        "X = np.random.random((4, 5))"
      ],
      "execution_count": 0,
      "outputs": []
    },
    {
      "metadata": {
        "id": "NMsMyl6uIxxH",
        "colab_type": "code",
        "outputId": "de253c93-590a-4e13-d69c-50bbb2caa4e9",
        "colab": {
          "base_uri": "https://localhost:8080/",
          "height": 85
        }
      },
      "cell_type": "code",
      "source": [
        "print(X)"
      ],
      "execution_count": 0,
      "outputs": [
        {
          "output_type": "stream",
          "text": [
            "[[0.6340227  0.7439994  0.51377358 0.64402583 0.82778405]\n",
            " [0.0853588  0.34790371 0.53079062 0.24860019 0.59982633]\n",
            " [0.77499469 0.44341469 0.45543587 0.8425638  0.27699996]\n",
            " [0.18761747 0.12563349 0.1885965  0.86384292 0.27651707]]\n"
          ],
          "name": "stdout"
        }
      ]
    },
    {
      "metadata": {
        "id": "g3c_s7TYI0Kv",
        "colab_type": "code",
        "colab": {}
      },
      "cell_type": "code",
      "source": [
        "Z = X.T"
      ],
      "execution_count": 0,
      "outputs": []
    },
    {
      "metadata": {
        "id": "UGKpets7I8JF",
        "colab_type": "code",
        "outputId": "8073de66-200d-492a-b2d2-64634bbdae99",
        "colab": {
          "base_uri": "https://localhost:8080/",
          "height": 102
        }
      },
      "cell_type": "code",
      "source": [
        "print(Z)"
      ],
      "execution_count": 0,
      "outputs": [
        {
          "output_type": "stream",
          "text": [
            "[[0.6340227  0.0853588  0.77499469 0.18761747]\n",
            " [0.7439994  0.34790371 0.44341469 0.12563349]\n",
            " [0.51377358 0.53079062 0.45543587 0.1885965 ]\n",
            " [0.64402583 0.24860019 0.8425638  0.86384292]\n",
            " [0.82778405 0.59982633 0.27699996 0.27651707]]\n"
          ],
          "name": "stdout"
        }
      ]
    },
    {
      "metadata": {
        "id": "1sVaZv5TI_Jd",
        "colab_type": "code",
        "colab": {}
      },
      "cell_type": "code",
      "source": [
        "Y = X.reshape(20, 1)"
      ],
      "execution_count": 0,
      "outputs": []
    },
    {
      "metadata": {
        "id": "jFJzoo-fJI_k",
        "colab_type": "code",
        "outputId": "1324ad27-55ce-415f-ad76-1744013dd659",
        "colab": {
          "base_uri": "https://localhost:8080/",
          "height": 357
        }
      },
      "cell_type": "code",
      "source": [
        "print(Y)"
      ],
      "execution_count": 0,
      "outputs": [
        {
          "output_type": "stream",
          "text": [
            "[[0.6340227 ]\n",
            " [0.7439994 ]\n",
            " [0.51377358]\n",
            " [0.64402583]\n",
            " [0.82778405]\n",
            " [0.0853588 ]\n",
            " [0.34790371]\n",
            " [0.53079062]\n",
            " [0.24860019]\n",
            " [0.59982633]\n",
            " [0.77499469]\n",
            " [0.44341469]\n",
            " [0.45543587]\n",
            " [0.8425638 ]\n",
            " [0.27699996]\n",
            " [0.18761747]\n",
            " [0.12563349]\n",
            " [0.1885965 ]\n",
            " [0.86384292]\n",
            " [0.27651707]]\n"
          ],
          "name": "stdout"
        }
      ]
    },
    {
      "metadata": {
        "id": "SB__S02CJOKq",
        "colab_type": "code",
        "outputId": "2c61d985-2288-400c-aeaa-eff7c7e1f0aa",
        "colab": {
          "base_uri": "https://localhost:8080/",
          "height": 34
        }
      },
      "cell_type": "code",
      "source": [
        "A = np.arange(5)\n",
        "print(A)"
      ],
      "execution_count": 0,
      "outputs": [
        {
          "output_type": "stream",
          "text": [
            "[0 1 2 3 4]\n"
          ],
          "name": "stdout"
        }
      ]
    },
    {
      "metadata": {
        "id": "lAZhuUy7JYm9",
        "colab_type": "code",
        "outputId": "582be706-3603-4b5c-b849-1855462001eb",
        "colab": {
          "base_uri": "https://localhost:8080/",
          "height": 34
        }
      },
      "cell_type": "code",
      "source": [
        "B = np.arange(5)\n",
        "print(B)"
      ],
      "execution_count": 0,
      "outputs": [
        {
          "output_type": "stream",
          "text": [
            "[0 1 2 3 4]\n"
          ],
          "name": "stdout"
        }
      ]
    },
    {
      "metadata": {
        "id": "Yy7vv5SVJhEs",
        "colab_type": "code",
        "outputId": "3d3c1e5e-5cb8-47b1-b432-c6759f14ff91",
        "colab": {
          "base_uri": "https://localhost:8080/",
          "height": 34
        }
      },
      "cell_type": "code",
      "source": [
        "C = A + B\n",
        "D = A - B\n",
        "E = A * B\n",
        "print(C, D, E)"
      ],
      "execution_count": 0,
      "outputs": [
        {
          "output_type": "stream",
          "text": [
            "[0 2 4 6 8] [0 0 0 0 0] [ 0  1  4  9 16]\n"
          ],
          "name": "stdout"
        }
      ]
    },
    {
      "metadata": {
        "id": "hXatG3kXJkBB",
        "colab_type": "code",
        "outputId": "ca787957-2147-4e2b-cdde-6556287ff9e2",
        "colab": {
          "base_uri": "https://localhost:8080/",
          "height": 34
        }
      },
      "cell_type": "code",
      "source": [
        "print(A, A + 1)"
      ],
      "execution_count": 0,
      "outputs": [
        {
          "output_type": "stream",
          "text": [
            "[0 1 2 3 4] [1 2 3 4 5]\n"
          ],
          "name": "stdout"
        }
      ]
    },
    {
      "metadata": {
        "id": "Ze2wzsX5J22H",
        "colab_type": "code",
        "outputId": "2bbe8a38-9a4c-44c0-ae0a-5e164fb73f30",
        "colab": {
          "base_uri": "https://localhost:8080/",
          "height": 85
        }
      },
      "cell_type": "code",
      "source": [
        "A = np.random.random((2, 3))\n",
        "print(A)\n",
        "print(A + 1)"
      ],
      "execution_count": 0,
      "outputs": [
        {
          "output_type": "stream",
          "text": [
            "[[0.73816518 0.32130234 0.64367403]\n",
            " [0.33459096 0.24254495 0.72614107]]\n",
            "[[1.73816518 1.32130234 1.64367403]\n",
            " [1.33459096 1.24254495 1.72614107]]\n"
          ],
          "name": "stdout"
        }
      ]
    },
    {
      "metadata": {
        "id": "9uXH0eMOJ-pe",
        "colab_type": "code",
        "outputId": "292e6063-e7b6-46cc-beae-639bed9cc2e9",
        "colab": {
          "base_uri": "https://localhost:8080/",
          "height": 51
        }
      },
      "cell_type": "code",
      "source": [
        "A = np.floor(np.random.random((2, 3))*10)  \n",
        "print(A)"
      ],
      "execution_count": 0,
      "outputs": [
        {
          "output_type": "stream",
          "text": [
            "[[2. 1. 5.]\n",
            " [7. 5. 8.]]\n"
          ],
          "name": "stdout"
        }
      ]
    },
    {
      "metadata": {
        "id": "VsjwYQ24KbLD",
        "colab_type": "code",
        "outputId": "af95bf4e-6158-465c-a576-1c661b53dc4c",
        "colab": {
          "base_uri": "https://localhost:8080/",
          "height": 34
        }
      },
      "cell_type": "code",
      "source": [
        "u = [1, 2, 3]\n",
        "v = [-1, 0, 1]\n",
        "\n",
        "p1 = np.inner(u, v)\n",
        "print(p1)"
      ],
      "execution_count": 0,
      "outputs": [
        {
          "output_type": "stream",
          "text": [
            "2\n"
          ],
          "name": "stdout"
        }
      ]
    },
    {
      "metadata": {
        "id": "Pj-4Z2sHK5C1",
        "colab_type": "code",
        "outputId": "646690d2-5abb-4c90-a05b-cc0dc46c4fce",
        "colab": {
          "base_uri": "https://localhost:8080/",
          "height": 68
        }
      },
      "cell_type": "code",
      "source": [
        "p2 = np.outer(u, v)\n",
        "print(p2)"
      ],
      "execution_count": 0,
      "outputs": [
        {
          "output_type": "stream",
          "text": [
            "[[-1  0  1]\n",
            " [-2  0  2]\n",
            " [-3  0  3]]\n"
          ],
          "name": "stdout"
        }
      ]
    },
    {
      "metadata": {
        "id": "e7QfI1ONLJd2",
        "colab_type": "code",
        "outputId": "62cc6500-66ce-488a-b122-ac8d19143cd3",
        "colab": {
          "base_uri": "https://localhost:8080/",
          "height": 51
        }
      },
      "cell_type": "code",
      "source": [
        "A = np.ones((2, 3))\n",
        "B = np.ones((3, 2))\n",
        "np.dot(A, B)"
      ],
      "execution_count": 0,
      "outputs": [
        {
          "output_type": "execute_result",
          "data": {
            "text/plain": [
              "array([[3., 3.],\n",
              "       [3., 3.]])"
            ]
          },
          "metadata": {
            "tags": []
          },
          "execution_count": 179
        }
      ]
    },
    {
      "metadata": {
        "id": "CrWNPHtGLTUB",
        "colab_type": "code",
        "outputId": "3079a1ee-0f56-46e0-9ceb-7d80e70d3890",
        "colab": {
          "base_uri": "https://localhost:8080/",
          "height": 51
        }
      },
      "cell_type": "code",
      "source": [
        "np.dot(B.T, A.T)"
      ],
      "execution_count": 0,
      "outputs": [
        {
          "output_type": "execute_result",
          "data": {
            "text/plain": [
              "array([[3., 3.],\n",
              "       [3., 3.]])"
            ]
          },
          "metadata": {
            "tags": []
          },
          "execution_count": 181
        }
      ]
    },
    {
      "metadata": {
        "id": "KUU9WGPwLyCd",
        "colab_type": "code",
        "outputId": "c193d36d-177c-413a-8de0-e4634ea0c932",
        "colab": {
          "base_uri": "https://localhost:8080/",
          "height": 51
        }
      },
      "cell_type": "code",
      "source": [
        "A = np.ones((2, 3))\n",
        "print(A)"
      ],
      "execution_count": 0,
      "outputs": [
        {
          "output_type": "stream",
          "text": [
            "[[1. 1. 1.]\n",
            " [1. 1. 1.]]\n"
          ],
          "name": "stdout"
        }
      ]
    },
    {
      "metadata": {
        "id": "-wHuCTSnL4C3",
        "colab_type": "code",
        "outputId": "ced0b261-a539-48e3-8817-e8857f46f336",
        "colab": {
          "base_uri": "https://localhost:8080/",
          "height": 34
        }
      },
      "cell_type": "code",
      "source": [
        "A.sum()"
      ],
      "execution_count": 0,
      "outputs": [
        {
          "output_type": "execute_result",
          "data": {
            "text/plain": [
              "6.0"
            ]
          },
          "metadata": {
            "tags": []
          },
          "execution_count": 183
        }
      ]
    },
    {
      "metadata": {
        "id": "zagnRLraL6hO",
        "colab_type": "code",
        "outputId": "12c532a5-4efc-426e-87d3-f0bdf8273d87",
        "colab": {
          "base_uri": "https://localhost:8080/",
          "height": 34
        }
      },
      "cell_type": "code",
      "source": [
        "A.sum(axis = 0)"
      ],
      "execution_count": 0,
      "outputs": [
        {
          "output_type": "execute_result",
          "data": {
            "text/plain": [
              "array([2., 2., 2.])"
            ]
          },
          "metadata": {
            "tags": []
          },
          "execution_count": 184
        }
      ]
    },
    {
      "metadata": {
        "id": "Qgt-oRhUL-ij",
        "colab_type": "code",
        "outputId": "3731b25f-9698-40dd-9fc8-857cb27ac0e9",
        "colab": {
          "base_uri": "https://localhost:8080/",
          "height": 34
        }
      },
      "cell_type": "code",
      "source": [
        "A.max()"
      ],
      "execution_count": 0,
      "outputs": [
        {
          "output_type": "execute_result",
          "data": {
            "text/plain": [
              "1.0"
            ]
          },
          "metadata": {
            "tags": []
          },
          "execution_count": 185
        }
      ]
    },
    {
      "metadata": {
        "id": "_QkKWeNcMIQE",
        "colab_type": "code",
        "colab": {}
      },
      "cell_type": "code",
      "source": [
        ""
      ],
      "execution_count": 0,
      "outputs": []
    },
    {
      "metadata": {
        "id": "7FY2y2EjMTxp",
        "colab_type": "text"
      },
      "cell_type": "markdown",
      "source": [
        "# Plotting"
      ]
    },
    {
      "metadata": {
        "id": "5x4A0WnjMV5k",
        "colab_type": "code",
        "colab": {}
      },
      "cell_type": "code",
      "source": [
        "import matplotlib.pyplot as plt\n",
        "import numpy as np"
      ],
      "execution_count": 0,
      "outputs": []
    },
    {
      "metadata": {
        "id": "0eSeUanRMblm",
        "colab_type": "code",
        "outputId": "dbc6ce63-9acd-4b52-a294-169162da4173",
        "colab": {
          "base_uri": "https://localhost:8080/",
          "height": 187
        }
      },
      "cell_type": "code",
      "source": [
        "X = np.random.random((10, 1))\n",
        "print(X)"
      ],
      "execution_count": 0,
      "outputs": [
        {
          "output_type": "stream",
          "text": [
            "[[0.52343449]\n",
            " [0.51072304]\n",
            " [0.04313957]\n",
            " [0.30802842]\n",
            " [0.12755005]\n",
            " [0.04128577]\n",
            " [0.29930856]\n",
            " [0.25579504]\n",
            " [0.63019916]\n",
            " [0.38127391]]\n"
          ],
          "name": "stdout"
        }
      ]
    },
    {
      "metadata": {
        "id": "RpLmSwKrMnVB",
        "colab_type": "code",
        "outputId": "214dcc76-1fa4-426a-c61e-bd4bc4572b4a",
        "colab": {
          "base_uri": "https://localhost:8080/",
          "height": 269
        }
      },
      "cell_type": "code",
      "source": [
        "plt.plot(X, '*-')\n",
        "plt.show()"
      ],
      "execution_count": 0,
      "outputs": [
        {
          "output_type": "display_data",
          "data": {
            "image/png": "[encoded data removed]",
            "text/plain": [
              "<Figure size 432x288 with 1 Axes>"
            ]
          },
          "metadata": {
            "tags": []
          }
        }
      ]
    },
    {
      "metadata": {
        "id": "WFKX2HwUMuBn",
        "colab_type": "code",
        "outputId": "c1253c78-0f69-4bb3-fc92-f553bd04aac2",
        "colab": {
          "base_uri": "https://localhost:8080/",
          "height": 269
        }
      },
      "cell_type": "code",
      "source": [
        "x = np.linspace(0, 100, 50)\n",
        "y = np.power(x, 2)\n",
        "plt.plot(x, y, '*')\n",
        "plt.show()"
      ],
      "execution_count": 0,
      "outputs": [
        {
          "output_type": "display_data",
          "data": {
            "image/png": "[encoded data removed]",
            "text/plain": [
              "<Figure size 432x288 with 1 Axes>"
            ]
          },
          "metadata": {
            "tags": []
          }
        }
      ]
    },
    {
      "metadata": {
        "id": "PV300F-iNeSu",
        "colab_type": "code",
        "colab": {}
      },
      "cell_type": "code",
      "source": [
        "import seaborn as sns"
      ],
      "execution_count": 0,
      "outputs": []
    },
    {
      "metadata": {
        "id": "RM45zmjuObLf",
        "colab_type": "code",
        "outputId": "05816ba0-166f-4cfb-b701-0ab0165ed1ea",
        "colab": {
          "base_uri": "https://localhost:8080/",
          "height": 34
        }
      },
      "cell_type": "code",
      "source": [
        "sns.set"
      ],
      "execution_count": 0,
      "outputs": [
        {
          "output_type": "execute_result",
          "data": {
            "text/plain": [
              "<function seaborn.rcmod.set>"
            ]
          },
          "metadata": {
            "tags": []
          },
          "execution_count": 7
        }
      ]
    },
    {
      "metadata": {
        "id": "OsuqrGOYOcJE",
        "colab_type": "code",
        "outputId": "8d473dff-a24f-4375-a1fc-c0ee62083ea9",
        "colab": {
          "base_uri": "https://localhost:8080/",
          "height": 286
        }
      },
      "cell_type": "code",
      "source": [
        "sns.lineplot(x, y)"
      ],
      "execution_count": 0,
      "outputs": [
        {
          "output_type": "execute_result",
          "data": {
            "text/plain": [
              "<matplotlib.axes._subplots.AxesSubplot at 0x7febf2957f60>"
            ]
          },
          "metadata": {
            "tags": []
          },
          "execution_count": 8
        },
        {
          "output_type": "display_data",
          "data": {
            "image/png": "[encoded data removed]",
            "text/plain": [
              "<Figure size 432x288 with 1 Axes>"
            ]
          },
          "metadata": {
            "tags": []
          }
        }
      ]
    },
    {
      "metadata": {
        "id": "IDydbfq-OhhW",
        "colab_type": "code",
        "outputId": "060b6870-844f-4bf1-baca-55864c1a316c",
        "colab": {
          "base_uri": "https://localhost:8080/",
          "height": 241
        }
      },
      "cell_type": "code",
      "source": [
        "!pip install seaborn==0.9.0"
      ],
      "execution_count": 0,
      "outputs": [
        {
          "output_type": "stream",
          "text": [
            "Requirement already satisfied: seaborn==0.9.0 in /usr/local/lib/python3.6/dist-packages (0.9.0)\n",
            "Requirement already satisfied: numpy>=1.9.3 in /usr/local/lib/python3.6/dist-packages (from seaborn==0.9.0) (1.14.6)\n",
            "Requirement already satisfied: pandas>=0.15.2 in /usr/local/lib/python3.6/dist-packages (from seaborn==0.9.0) (0.22.0)\n",
            "Requirement already satisfied: scipy>=0.14.0 in /usr/local/lib/python3.6/dist-packages (from seaborn==0.9.0) (1.1.0)\n",
            "Requirement already satisfied: matplotlib>=1.4.3 in /usr/local/lib/python3.6/dist-packages (from seaborn==0.9.0) (3.0.2)\n",
            "Requirement already satisfied: python-dateutil>=2 in /usr/local/lib/python3.6/dist-packages (from pandas>=0.15.2->seaborn==0.9.0) (2.5.3)\n",
            "Requirement already satisfied: pytz>=2011k in /usr/local/lib/python3.6/dist-packages (from pandas>=0.15.2->seaborn==0.9.0) (2018.9)\n",
            "Requirement already satisfied: cycler>=0.10 in /usr/local/lib/python3.6/dist-packages (from matplotlib>=1.4.3->seaborn==0.9.0) (0.10.0)\n",
            "Requirement already satisfied: kiwisolver>=1.0.1 in /usr/local/lib/python3.6/dist-packages (from matplotlib>=1.4.3->seaborn==0.9.0) (1.0.1)\n",
            "Requirement already satisfied: pyparsing!=2.0.4,!=2.1.2,!=2.1.6,>=2.0.1 in /usr/local/lib/python3.6/dist-packages (from matplotlib>=1.4.3->seaborn==0.9.0) (2.3.1)\n",
            "Requirement already satisfied: six>=1.5 in /usr/local/lib/python3.6/dist-packages (from python-dateutil>=2->pandas>=0.15.2->seaborn==0.9.0) (1.11.0)\n",
            "Requirement already satisfied: setuptools in /usr/local/lib/python3.6/dist-packages (from kiwisolver>=1.0.1->matplotlib>=1.4.3->seaborn==0.9.0) (40.8.0)\n"
          ],
          "name": "stdout"
        }
      ]
    },
    {
      "metadata": {
        "id": "cPnc3fJuO-J7",
        "colab_type": "code",
        "outputId": "bbc6b785-07a4-4f4b-ff69-634c193478fa",
        "colab": {
          "base_uri": "https://localhost:8080/",
          "height": 377
        }
      },
      "cell_type": "code",
      "source": [
        "!wget https://www.dropbox.com/s/am36uj16qnazv71/mobile_cleaned"
      ],
      "execution_count": 0,
      "outputs": [
        {
          "output_type": "stream",
          "text": [
            "--2019-02-10 21:28:19--  https://www.dropbox.com/s/am36uj16qnazv71/mobile_cleaned\n",
            "Resolving www.dropbox.com (www.dropbox.com)... 162.125.1.1, 2620:100:601b:1::a27d:801\n",
            "Connecting to www.dropbox.com (www.dropbox.com)|162.125.1.1|:443... connected.\n",
            "HTTP request sent, awaiting response... 301 Moved Permanently\n",
            "Location: /s/raw/am36uj16qnazv71/mobile_cleaned [following]\n",
            "--2019-02-10 21:28:19--  https://www.dropbox.com/s/raw/am36uj16qnazv71/mobile_cleaned\n",
            "Reusing existing connection to www.dropbox.com:443.\n",
            "HTTP request sent, awaiting response... 302 Found\n",
            "Location: https://uceb1c6242b12aa7543e528883f0.dl.dropboxusercontent.com/cd/0/inline/AbEWr_cCTm2YLbI7TCRBdqun57YfjrW89DpJBXtXklXIQCnY3O9PzSOreUfauq-AUb8l_jogcKUUa9VFmaEuZ67qXNFk1BXUpy_5DJt09H603Q/file# [following]\n",
            "--2019-02-10 21:28:20--  https://uceb1c6242b12aa7543e528883f0.dl.dropboxusercontent.com/cd/0/inline/AbEWr_cCTm2YLbI7TCRBdqun57YfjrW89DpJBXtXklXIQCnY3O9PzSOreUfauq-AUb8l_jogcKUUa9VFmaEuZ67qXNFk1BXUpy_5DJt09H603Q/file\n",
            "Resolving uceb1c6242b12aa7543e528883f0.dl.dropboxusercontent.com (uceb1c6242b12aa7543e528883f0.dl.dropboxusercontent.com)... 162.125.1.6, 2620:100:6016:6::a27d:106\n",
            "Connecting to uceb1c6242b12aa7543e528883f0.dl.dropboxusercontent.com (uceb1c6242b12aa7543e528883f0.dl.dropboxusercontent.com)|162.125.1.6|:443... connected.\n",
            "HTTP request sent, awaiting response... 200 OK\n",
            "Length: 14044 (14K) [text/plain]\n",
            "Saving to: ‘mobile_cleaned’\n",
            "\n",
            "\rmobile_cleaned        0%[                    ]       0  --.-KB/s               \rmobile_cleaned      100%[===================>]  13.71K  --.-KB/s    in 0s      \n",
            "\n",
            "2019-02-10 21:28:20 (344 MB/s) - ‘mobile_cleaned’ saved [14044/14044]\n",
            "\n"
          ],
          "name": "stdout"
        }
      ]
    },
    {
      "metadata": {
        "id": "Rw0NfR1PT4x3",
        "colab_type": "code",
        "outputId": "48d65502-fb80-436b-ca6c-ea89fde3b4a5",
        "colab": {
          "base_uri": "https://localhost:8080/",
          "height": 34
        }
      },
      "cell_type": "code",
      "source": [
        "!ls"
      ],
      "execution_count": 0,
      "outputs": [
        {
          "output_type": "stream",
          "text": [
            "mobile_cleaned\tmy_first_file_output.txt  sample_data  test.csv\n"
          ],
          "name": "stdout"
        }
      ]
    },
    {
      "metadata": {
        "id": "xnadJQxxT-mH",
        "colab_type": "code",
        "outputId": "23e7d13b-90b5-4f63-90db-5bcff582e5e2",
        "colab": {
          "base_uri": "https://localhost:8080/",
          "height": 253
        }
      },
      "cell_type": "code",
      "source": [
        "import pandas as pd\n",
        "data = pd.read_csv('mobile_cleaned')\n",
        "data.head()"
      ],
      "execution_count": 0,
      "outputs": [
        {
          "output_type": "execute_result",
          "data": {
            "text/html": [
              "<div>\n",
              "<style scoped>\n",
              "    .dataframe tbody tr th:only-of-type {\n",
              "        vertical-align: middle;\n",
              "    }\n",
              "\n",
              "    .dataframe tbody tr th {\n",
              "        vertical-align: top;\n",
              "    }\n",
              "\n",
              "    .dataframe thead th {\n",
              "        text-align: right;\n",
              "    }\n",
              "</style>\n",
              "<table border=\"1\" class=\"dataframe\">\n",
              "  <thead>\n",
              "    <tr style=\"text-align: right;\">\n",
              "      <th></th>\n",
              "      <th>sim_type</th>\n",
              "      <th>aperture</th>\n",
              "      <th>gpu_rank</th>\n",
              "      <th>weight</th>\n",
              "      <th>stand_by_time</th>\n",
              "      <th>processor_frequency</th>\n",
              "      <th>thickness</th>\n",
              "      <th>flash_type</th>\n",
              "      <th>front_camera_resolution</th>\n",
              "      <th>auto_focus</th>\n",
              "      <th>...</th>\n",
              "      <th>micro_sd_slot</th>\n",
              "      <th>screen_pixel_density</th>\n",
              "      <th>water_proof_rate</th>\n",
              "      <th>phone_width</th>\n",
              "      <th>expandable_memory</th>\n",
              "      <th>version</th>\n",
              "      <th>usb_type</th>\n",
              "      <th>battery_capacity</th>\n",
              "      <th>processor_rank</th>\n",
              "      <th>is_liked</th>\n",
              "    </tr>\n",
              "  </thead>\n",
              "  <tbody>\n",
              "    <tr>\n",
              "      <th>0</th>\n",
              "      <td>0</td>\n",
              "      <td>12</td>\n",
              "      <td>55</td>\n",
              "      <td>155.0</td>\n",
              "      <td>250</td>\n",
              "      <td>1.3</td>\n",
              "      <td>10.5</td>\n",
              "      <td>5</td>\n",
              "      <td>2.00</td>\n",
              "      <td>0</td>\n",
              "      <td>...</td>\n",
              "      <td>4</td>\n",
              "      <td>2</td>\n",
              "      <td>3</td>\n",
              "      <td>67.8</td>\n",
              "      <td>64.0</td>\n",
              "      <td>5</td>\n",
              "      <td>3</td>\n",
              "      <td>2000</td>\n",
              "      <td>125</td>\n",
              "      <td>1</td>\n",
              "    </tr>\n",
              "    <tr>\n",
              "      <th>1</th>\n",
              "      <td>0</td>\n",
              "      <td>1</td>\n",
              "      <td>55</td>\n",
              "      <td>132.0</td>\n",
              "      <td>300</td>\n",
              "      <td>1.3</td>\n",
              "      <td>10.6</td>\n",
              "      <td>5</td>\n",
              "      <td>0.30</td>\n",
              "      <td>1</td>\n",
              "      <td>...</td>\n",
              "      <td>4</td>\n",
              "      <td>4</td>\n",
              "      <td>6</td>\n",
              "      <td>64.0</td>\n",
              "      <td>32.0</td>\n",
              "      <td>5</td>\n",
              "      <td>3</td>\n",
              "      <td>2000</td>\n",
              "      <td>165</td>\n",
              "      <td>1</td>\n",
              "    </tr>\n",
              "    <tr>\n",
              "      <th>2</th>\n",
              "      <td>0</td>\n",
              "      <td>9</td>\n",
              "      <td>55</td>\n",
              "      <td>142.0</td>\n",
              "      <td>329</td>\n",
              "      <td>1.5</td>\n",
              "      <td>8.5</td>\n",
              "      <td>5</td>\n",
              "      <td>2.00</td>\n",
              "      <td>3</td>\n",
              "      <td>...</td>\n",
              "      <td>4</td>\n",
              "      <td>9</td>\n",
              "      <td>6</td>\n",
              "      <td>72.0</td>\n",
              "      <td>32.0</td>\n",
              "      <td>6</td>\n",
              "      <td>3</td>\n",
              "      <td>2500</td>\n",
              "      <td>164</td>\n",
              "      <td>0</td>\n",
              "    </tr>\n",
              "    <tr>\n",
              "      <th>3</th>\n",
              "      <td>0</td>\n",
              "      <td>8</td>\n",
              "      <td>55</td>\n",
              "      <td>152.0</td>\n",
              "      <td>385</td>\n",
              "      <td>1.3</td>\n",
              "      <td>8.0</td>\n",
              "      <td>5</td>\n",
              "      <td>2.00</td>\n",
              "      <td>3</td>\n",
              "      <td>...</td>\n",
              "      <td>4</td>\n",
              "      <td>1</td>\n",
              "      <td>3</td>\n",
              "      <td>75.1</td>\n",
              "      <td>32.0</td>\n",
              "      <td>6</td>\n",
              "      <td>3</td>\n",
              "      <td>3000</td>\n",
              "      <td>165</td>\n",
              "      <td>1</td>\n",
              "    </tr>\n",
              "    <tr>\n",
              "      <th>4</th>\n",
              "      <td>1</td>\n",
              "      <td>1</td>\n",
              "      <td>55</td>\n",
              "      <td>234.0</td>\n",
              "      <td>385</td>\n",
              "      <td>1.3</td>\n",
              "      <td>7.9</td>\n",
              "      <td>5</td>\n",
              "      <td>1.92</td>\n",
              "      <td>3</td>\n",
              "      <td>...</td>\n",
              "      <td>4</td>\n",
              "      <td>1</td>\n",
              "      <td>6</td>\n",
              "      <td>91.0</td>\n",
              "      <td>32.0</td>\n",
              "      <td>6</td>\n",
              "      <td>3</td>\n",
              "      <td>3000</td>\n",
              "      <td>165</td>\n",
              "      <td>0</td>\n",
              "    </tr>\n",
              "  </tbody>\n",
              "</table>\n",
              "<p>5 rows × 40 columns</p>\n",
              "</div>"
            ],
            "text/plain": [
              "   sim_type  aperture  gpu_rank  weight  stand_by_time  processor_frequency  \\\n",
              "0         0        12        55   155.0            250                  1.3   \n",
              "1         0         1        55   132.0            300                  1.3   \n",
              "2         0         9        55   142.0            329                  1.5   \n",
              "3         0         8        55   152.0            385                  1.3   \n",
              "4         1         1        55   234.0            385                  1.3   \n",
              "\n",
              "   thickness  flash_type  front_camera_resolution  auto_focus    ...     \\\n",
              "0       10.5           5                     2.00           0    ...      \n",
              "1       10.6           5                     0.30           1    ...      \n",
              "2        8.5           5                     2.00           3    ...      \n",
              "3        8.0           5                     2.00           3    ...      \n",
              "4        7.9           5                     1.92           3    ...      \n",
              "\n",
              "   micro_sd_slot  screen_pixel_density  water_proof_rate  phone_width  \\\n",
              "0              4                     2                 3         67.8   \n",
              "1              4                     4                 6         64.0   \n",
              "2              4                     9                 6         72.0   \n",
              "3              4                     1                 3         75.1   \n",
              "4              4                     1                 6         91.0   \n",
              "\n",
              "   expandable_memory  version  usb_type  battery_capacity  processor_rank  \\\n",
              "0               64.0        5         3              2000             125   \n",
              "1               32.0        5         3              2000             165   \n",
              "2               32.0        6         3              2500             164   \n",
              "3               32.0        6         3              3000             165   \n",
              "4               32.0        6         3              3000             165   \n",
              "\n",
              "   is_liked  \n",
              "0         1  \n",
              "1         1  \n",
              "2         0  \n",
              "3         1  \n",
              "4         0  \n",
              "\n",
              "[5 rows x 40 columns]"
            ]
          },
          "metadata": {
            "tags": []
          },
          "execution_count": 13
        }
      ]
    },
    {
      "metadata": {
        "id": "3PIhG9tTUSsn",
        "colab_type": "code",
        "outputId": "93fa9d99-d3d4-4f9a-a280-28f3b39dc2dd",
        "colab": {
          "base_uri": "https://localhost:8080/",
          "height": 284
        }
      },
      "cell_type": "code",
      "source": [
        "ax = sns.scatterplot(x= \"stand_by_time\", y=\"battery_capacity\", data=data)"
      ],
      "execution_count": 0,
      "outputs": [
        {
          "output_type": "display_data",
          "data": {
            "image/png": "[encoded data removed]",
            "text/plain": [
              "<Figure size 432x288 with 1 Axes>"
            ]
          },
          "metadata": {
            "tags": []
          }
        }
      ]
    },
    {
      "metadata": {
        "id": "rTnlRatFUs6p",
        "colab_type": "code",
        "outputId": "efee34c9-bdde-418d-c50f-ac98e2c33404",
        "colab": {
          "base_uri": "https://localhost:8080/",
          "height": 284
        }
      },
      "cell_type": "code",
      "source": [
        "ax = sns.scatterplot(x = \"stand_by_time\", y = \"battery_capacity\", hue=\"thickness\", data=data)"
      ],
      "execution_count": 0,
      "outputs": [
        {
          "output_type": "display_data",
          "data": {
            "image/png": "[encoded data removed]",
            "text/plain": [
              "<Figure size 432x288 with 1 Axes>"
            ]
          },
          "metadata": {
            "tags": []
          }
        }
      ]
    },
    {
      "metadata": {
        "id": "Y9BP-fs7VIEV",
        "colab_type": "code",
        "outputId": "54798826-fe56-4f5f-c88a-d8fc0d4c9c82",
        "colab": {
          "base_uri": "https://localhost:8080/",
          "height": 301
        }
      },
      "cell_type": "code",
      "source": [
        "sns.distplot(data[\"stand_by_time\"])"
      ],
      "execution_count": 0,
      "outputs": [
        {
          "output_type": "execute_result",
          "data": {
            "text/plain": [
              "<matplotlib.axes._subplots.AxesSubplot at 0x7febf1ea15f8>"
            ]
          },
          "metadata": {
            "tags": []
          },
          "execution_count": 20
        },
        {
          "output_type": "display_data",
          "data": {
            "image/png": "[encoded data removed]",
            "text/plain": [
              "<Figure size 432x288 with 1 Axes>"
            ]
          },
          "metadata": {
            "tags": []
          }
        }
      ]
    },
    {
      "metadata": {
        "id": "wiz-1hZEVzM0",
        "colab_type": "code",
        "outputId": "66592577-e26c-49d5-cafe-6cab12ee7ff0",
        "colab": {
          "base_uri": "https://localhost:8080/",
          "height": 301
        }
      },
      "cell_type": "code",
      "source": [
        "sns.distplot(data[\"stand_by_time\"], kde = False, rug = True, bins = 20)"
      ],
      "execution_count": 0,
      "outputs": [
        {
          "output_type": "execute_result",
          "data": {
            "text/plain": [
              "<matplotlib.axes._subplots.AxesSubplot at 0x7febf1f9a5c0>"
            ]
          },
          "metadata": {
            "tags": []
          },
          "execution_count": 24
        },
        {
          "output_type": "display_data",
          "data": {
            "image/png": "[encoded data removed]",
            "text/plain": [
              "<Figure size 432x288 with 1 Axes>"
            ]
          },
          "metadata": {
            "tags": []
          }
        }
      ]
    },
    {
      "metadata": {
        "id": "iMueRyoPWFR6",
        "colab_type": "code",
        "outputId": "ab84186b-53ee-45a0-92eb-bb68900a8e72",
        "colab": {
          "base_uri": "https://localhost:8080/",
          "height": 284
        }
      },
      "cell_type": "code",
      "source": [
        "ax = sns.boxplot(x = \"is_liked\", y = \"battery_capacity\", data=data)"
      ],
      "execution_count": 0,
      "outputs": [
        {
          "output_type": "display_data",
          "data": {
            "image/png": "[encoded data removed]",
            "text/plain": [
              "<Figure size 432x288 with 1 Axes>"
            ]
          },
          "metadata": {
            "tags": []
          }
        }
      ]
    },
    {
      "metadata": {
        "id": "SZjF4w_yWnyN",
        "colab_type": "code",
        "outputId": "3700928d-f433-4623-c2be-f577ec516c47",
        "colab": {
          "base_uri": "https://localhost:8080/",
          "height": 284
        }
      },
      "cell_type": "code",
      "source": [
        "ax = sns.boxplot(x = \"expandable_memory\", y = \"price\", data=data)"
      ],
      "execution_count": 0,
      "outputs": [
        {
          "output_type": "display_data",
          "data": {
            "image/png": "[encoded data removed]",
            "text/plain": [
              "<Figure size 432x288 with 1 Axes>"
            ]
          },
          "metadata": {
            "tags": []
          }
        }
      ]
    },
    {
      "metadata": {
        "id": "lIpns9w2XCKS",
        "colab_type": "code",
        "outputId": "8d914e92-65cf-4a97-96ea-76e57b077bfa",
        "colab": {
          "base_uri": "https://localhost:8080/",
          "height": 357
        }
      },
      "cell_type": "code",
      "source": [
        "uniform_data = np.random.rand(10, 12)\n",
        "print(uniform_data)"
      ],
      "execution_count": 0,
      "outputs": [
        {
          "output_type": "stream",
          "text": [
            "[[0.82758867 0.24720058 0.4914221  0.81040799 0.34384006 0.91992777\n",
            "  0.59848675 0.42127821 0.1943315  0.7232705  0.14386089 0.74717258]\n",
            " [0.81377982 0.94956988 0.0123757  0.00226065 0.06653597 0.08402671\n",
            "  0.96515782 0.24639575 0.19734474 0.27986359 0.04868819 0.95421895]\n",
            " [0.31290926 0.92958904 0.94675678 0.58533158 0.95360983 0.52695594\n",
            "  0.54840056 0.34339343 0.80992315 0.2836276  0.33428543 0.01022345]\n",
            " [0.96442907 0.65317772 0.63113156 0.30433452 0.42662877 0.80724469\n",
            "  0.06069926 0.3276421  0.18567302 0.02705431 0.10539825 0.69869563]\n",
            " [0.28940987 0.19229588 0.6085565  0.67790772 0.8168373  0.76622916\n",
            "  0.40701746 0.22259713 0.06854999 0.8506653  0.43692038 0.97294132]\n",
            " [0.76561977 0.04315432 0.19987535 0.48723818 0.35917315 0.60997076\n",
            "  0.23158074 0.90309088 0.14932652 0.19324814 0.57869667 0.04253286]\n",
            " [0.31290783 0.76977196 0.94384683 0.83019996 0.7744112  0.98078869\n",
            "  0.69834952 0.39083978 0.0391787  0.04692374 0.60446255 0.91594561]\n",
            " [0.61172678 0.54896996 0.71948843 0.67370871 0.14102303 0.50897744\n",
            "  0.66494618 0.98920391 0.8772382  0.26422821 0.93015456 0.50604357]\n",
            " [0.31299494 0.69692314 0.84686287 0.93349227 0.8144197  0.75614394\n",
            "  0.68814463 0.36526699 0.84906116 0.65644388 0.23326072 0.19294924]\n",
            " [0.57670289 0.60403214 0.65561868 0.35489098 0.98917557 0.0227703\n",
            "  0.45339597 0.14015508 0.8099234  0.24080204 0.07807698 0.55202794]]\n"
          ],
          "name": "stdout"
        }
      ]
    },
    {
      "metadata": {
        "id": "qAB-CZiJXY3w",
        "colab_type": "code",
        "outputId": "40d49713-6dab-4223-c329-a00d51c2aca9",
        "colab": {
          "base_uri": "https://localhost:8080/",
          "height": 269
        }
      },
      "cell_type": "code",
      "source": [
        "ax = sns.heatmap(uniform_data, cmap = \"YlGnBu\")"
      ],
      "execution_count": 0,
      "outputs": [
        {
          "output_type": "display_data",
          "data": {
            "image/png": "[encoded data removed]",
            "text/plain": [
              "<Figure size 432x288 with 2 Axes>"
            ]
          },
          "metadata": {
            "tags": []
          }
        }
      ]
    },
    {
      "metadata": {
        "id": "Nl20qpdNXgvw",
        "colab_type": "code",
        "outputId": "4973eb3c-9caf-4623-d239-de59f3c67ead",
        "colab": {
          "base_uri": "https://localhost:8080/",
          "height": 224
        }
      },
      "cell_type": "code",
      "source": [
        "!wget https://s3.amazonaws.com/thinkific-import/153034/3f9yaVLKTyUGmlBPcSOA_logo_long.png"
      ],
      "execution_count": 0,
      "outputs": [
        {
          "output_type": "stream",
          "text": [
            "--2019-02-10 22:03:50--  https://s3.amazonaws.com/thinkific-import/153034/3f9yaVLKTyUGmlBPcSOA_logo_long.png\n",
            "Resolving s3.amazonaws.com (s3.amazonaws.com)... 52.216.169.125\n",
            "Connecting to s3.amazonaws.com (s3.amazonaws.com)|52.216.169.125|:443... connected.\n",
            "HTTP request sent, awaiting response... 200 OK\n",
            "Length: 27958 (27K) [image/png]\n",
            "Saving to: ‘3f9yaVLKTyUGmlBPcSOA_logo_long.png’\n",
            "\n",
            "\r          3f9yaVLKT   0%[                    ]       0  --.-KB/s               \r3f9yaVLKTyUGmlBPcSO 100%[===================>]  27.30K  --.-KB/s    in 0.07s   \n",
            "\n",
            "2019-02-10 22:03:51 (378 KB/s) - ‘3f9yaVLKTyUGmlBPcSOA_logo_long.png’ saved [27958/27958]\n",
            "\n"
          ],
          "name": "stdout"
        }
      ]
    },
    {
      "metadata": {
        "id": "ajUT1BuqYJc2",
        "colab_type": "code",
        "outputId": "de9cd073-a35e-4f3f-f134-c96d5be70e6d",
        "colab": {
          "base_uri": "https://localhost:8080/",
          "height": 68
        }
      },
      "cell_type": "code",
      "source": [
        "!ls"
      ],
      "execution_count": 0,
      "outputs": [
        {
          "output_type": "stream",
          "text": [
            " 3f9yaVLKTyUGmlBPcSOA_logo_long.png   nitin.jpeg   'url?sa=i'\n",
            " mobile_cleaned\t\t\t      sample_data\n",
            " my_first_file_output.txt\t      test.csv\n"
          ],
          "name": "stdout"
        }
      ]
    },
    {
      "metadata": {
        "id": "wfPEDI_iYMWI",
        "colab_type": "code",
        "colab": {}
      },
      "cell_type": "code",
      "source": [
        "!mv 3f9yaVLKTyUGmlBPcSOA_logo_long.png ofl.png"
      ],
      "execution_count": 0,
      "outputs": []
    },
    {
      "metadata": {
        "id": "dsOGYBBAYjeL",
        "colab_type": "code",
        "outputId": "7ea4b4f2-b07d-4b7a-bb26-29899dfc6641",
        "colab": {
          "base_uri": "https://localhost:8080/",
          "height": 51
        }
      },
      "cell_type": "code",
      "source": [
        "!ls\n"
      ],
      "execution_count": 0,
      "outputs": [
        {
          "output_type": "stream",
          "text": [
            " mobile_cleaned\t\t    nitin.jpeg\t sample_data  'url?sa=i'\n",
            " my_first_file_output.txt   ofl.png\t test.csv\n"
          ],
          "name": "stdout"
        }
      ]
    },
    {
      "metadata": {
        "id": "ZWkrAbFKYwCx",
        "colab_type": "code",
        "colab": {}
      },
      "cell_type": "code",
      "source": [
        "import matplotlib.image as mpimg"
      ],
      "execution_count": 0,
      "outputs": []
    },
    {
      "metadata": {
        "id": "atAVYFhiZGXs",
        "colab_type": "code",
        "colab": {}
      },
      "cell_type": "code",
      "source": [
        "img = mpimg.imread('ofl.png')"
      ],
      "execution_count": 0,
      "outputs": []
    },
    {
      "metadata": {
        "id": "4PLsEzcAZOpI",
        "colab_type": "code",
        "outputId": "a79c188d-a0b2-4655-ec1e-0f52a17917a3",
        "colab": {
          "base_uri": "https://localhost:8080/",
          "height": 850
        }
      },
      "cell_type": "code",
      "source": [
        "print(img)"
      ],
      "execution_count": 0,
      "outputs": [
        {
          "output_type": "stream",
          "text": [
            "[[[0. 0. 0. 0.]\n",
            "  [0. 0. 0. 0.]\n",
            "  [0. 0. 0. 0.]\n",
            "  ...\n",
            "  [0. 0. 0. 0.]\n",
            "  [0. 0. 0. 0.]\n",
            "  [0. 0. 0. 0.]]\n",
            "\n",
            " [[0. 0. 0. 0.]\n",
            "  [0. 0. 0. 0.]\n",
            "  [0. 0. 0. 0.]\n",
            "  ...\n",
            "  [0. 0. 0. 0.]\n",
            "  [0. 0. 0. 0.]\n",
            "  [0. 0. 0. 0.]]\n",
            "\n",
            " [[0. 0. 0. 0.]\n",
            "  [0. 0. 0. 0.]\n",
            "  [0. 0. 0. 0.]\n",
            "  ...\n",
            "  [0. 0. 0. 0.]\n",
            "  [0. 0. 0. 0.]\n",
            "  [0. 0. 0. 0.]]\n",
            "\n",
            " ...\n",
            "\n",
            " [[0. 0. 0. 0.]\n",
            "  [0. 0. 0. 0.]\n",
            "  [0. 0. 0. 0.]\n",
            "  ...\n",
            "  [0. 0. 0. 0.]\n",
            "  [0. 0. 0. 0.]\n",
            "  [0. 0. 0. 0.]]\n",
            "\n",
            " [[0. 0. 0. 0.]\n",
            "  [0. 0. 0. 0.]\n",
            "  [0. 0. 0. 0.]\n",
            "  ...\n",
            "  [0. 0. 0. 0.]\n",
            "  [0. 0. 0. 0.]\n",
            "  [0. 0. 0. 0.]]\n",
            "\n",
            " [[0. 0. 0. 0.]\n",
            "  [0. 0. 0. 0.]\n",
            "  [0. 0. 0. 0.]\n",
            "  ...\n",
            "  [0. 0. 0. 0.]\n",
            "  [0. 0. 0. 0.]\n",
            "  [0. 0. 0. 0.]]]\n"
          ],
          "name": "stdout"
        }
      ]
    },
    {
      "metadata": {
        "id": "mfly5nb7ZTL9",
        "colab_type": "code",
        "outputId": "313e8029-8fd4-46a0-b025-dba523e5ec67",
        "colab": {
          "base_uri": "https://localhost:8080/",
          "height": 136
        }
      },
      "cell_type": "code",
      "source": [
        "imgplot = plt.imshow(img)\n",
        "  "
      ],
      "execution_count": 0,
      "outputs": [
        {
          "output_type": "display_data",
          "data": {
            "image/png": "[encoded data removed]",
            "text/plain": [
              "<Figure size 432x288 with 1 Axes>"
            ]
          },
          "metadata": {
            "tags": []
          }
        }
      ]
    },
    {
      "metadata": {
        "id": "Yz6UUnbIc8s2",
        "colab_type": "code",
        "colab": {}
      },
      "cell_type": "code",
      "source": [
        ""
      ],
      "execution_count": 0,
      "outputs": []
    }
  ]
}
